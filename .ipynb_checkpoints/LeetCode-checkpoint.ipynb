{
 "cells": [
  {
   "cell_type": "markdown",
   "id": "23227c83-caa5-482f-83d7-922692ef28d5",
   "metadata": {},
   "source": [
    "# 1. Two Sum"
   ]
  },
  {
   "cell_type": "markdown",
   "id": "a7f03226-c3f8-4d6e-89a8-7d702499ff99",
   "metadata": {},
   "source": [
    "## One-pass Hash Table"
   ]
  },
  {
   "cell_type": "code",
   "execution_count": 6,
   "id": "08a1a31d-593f-4e6f-aa74-a7cc370fdec1",
   "metadata": {},
   "outputs": [
    {
     "name": "stdout",
     "output_type": "stream",
     "text": [
      "{11: 0, 2: 1, 15: 2}\n"
     ]
    },
    {
     "data": {
      "text/plain": [
       "[3, 1]"
      ]
     },
     "execution_count": 6,
     "metadata": {},
     "output_type": "execute_result"
    }
   ],
   "source": [
    "def twoSum(nums: list[int], target: int) -> list[int]:\n",
    "    hashmap = {}\n",
    "    for i in range(len(nums)):\n",
    "        complement = target - nums[i]\n",
    "        if complement in hashmap:\n",
    "            print(hashmap)\n",
    "            return [i, hashmap[complement]]\n",
    "        hashmap[nums[i]] = i\n",
    "\n",
    "        \n",
    "twoSum([11, 2, 15, 7], 9)"
   ]
  },
  {
   "cell_type": "markdown",
   "id": "0d0e92a7-493c-4859-bef6-ec9355c425ca",
   "metadata": {},
   "source": [
    "Firstly, sorting lists is rarely a good idea if the solution asks for the index. This solution relies on using the 'complement' (`target - nums[i]`); while iterating through our nums and inserting elements with their index into a hashtable, we make a check to see if the current element's complement already exists in the hash table.\n",
    "\n",
    "Let's say we're at the element `2` and we determine the complement as 9 - 2 = 7. If we look through all the elements that we've iterated over and find a value equal to this complement, we're done. Since `7` isn't in the dictionary, we can store `2` with its index in the hopes of finding a number whose complement is `2`, i.e., 9 - 7 = 2.\n",
    "\n",
    "Of course, once we reach 7 and find its complement as 9 - 7 = 2, it means we want the index corresponding to 7 (current loop's index) and the index corresponding to 2 (dictionary lookup)."
   ]
  },
  {
   "cell_type": "markdown",
   "id": "8691c7db-6cb3-486e-abda-034848e1e51e",
   "metadata": {},
   "source": [
    "# 9. Palindrome Number"
   ]
  },
  {
   "cell_type": "markdown",
   "id": "5c4313d1-a2aa-4c69-9da1-d0349fb600a7",
   "metadata": {},
   "source": [
    "## Converting to an iterable (string): 89.20% faster"
   ]
  },
  {
   "cell_type": "code",
   "execution_count": 11,
   "id": "c25483fb-7c08-440a-aa52-9d4f5ea4f8ad",
   "metadata": {},
   "outputs": [],
   "source": [
    "def isPalindrome(self, x: int) -> bool:\n",
    "    if x < 0:\n",
    "        return False\n",
    "\n",
    "    return str(x) == str(x)[::-1]"
   ]
  },
  {
   "cell_type": "markdown",
   "id": "537d5ea4-86de-4e3b-a84c-3e4f8ab313af",
   "metadata": {},
   "source": [
    "## Letting it remain as integer: 99.14% faster."
   ]
  },
  {
   "cell_type": "code",
   "execution_count": 12,
   "id": "f3c46085-9725-4481-a46e-e3c77a5d8066",
   "metadata": {},
   "outputs": [
    {
     "data": {
      "text/plain": [
       "True"
      ]
     },
     "execution_count": 12,
     "metadata": {},
     "output_type": "execute_result"
    }
   ],
   "source": [
    "def isPalindrome(x: int) -> bool:\n",
    "    \n",
    "    # if x is negative, return False. if x is positive and last digit is 0, that also cannot form a palindrome, return False.\n",
    "    if x < 0 or (x > 0 and x%10 == 0):   \n",
    "        return False\n",
    "\n",
    "    reverse_x = 0\n",
    "    while x > reverse_x:\n",
    "        reverse_x = (x % 10) + (reverse_x * 10) \n",
    "        x = x // 10\n",
    "        \n",
    "    return True if (x == reverse_x or x == reverse_x // 10) else False\n",
    "\n",
    "isPalindrome(15951)"
   ]
  },
  {
   "cell_type": "markdown",
   "id": "55e8428b-67c2-481f-9f5d-ad33b7187158",
   "metadata": {},
   "source": [
    "The first thing to note is that `num // 10` is the easiest way to return all but the last digit of num.\n",
    "Second thing to note is that `num % 10` is the easiest way to return the last digit of num\n",
    "\n",
    "Steps:\n",
    "- If `15951` is negative or ending in 0, it cannot be a palindrome. Since it's neither, it can be.\n",
    "\n",
    "- We want to reverse the first half integers of `x`. If `x` has an even integer length, then `x` and `reverse_x` will have the exactly the same length e.g. 159 and reversed_first_half(159951) = 159. It's then very easy to check if palindrome; simply do `x == reverse_x`.\n",
    "\n",
    "- If it's odd, then we want to build up `reverse_x` and cut down `x`. For reverse_x, get the last digit of x (`(x % 10)`) and then add it to `reverse_x` = 0. For `x`, return all but the last digit (`x // 10`).\n",
    "    - `x = 15951    rev_x = 0`\n",
    "    - `x = 1595    rev_x = 1`\n",
    "    - `x = 159    rev_x = 15`\n",
    "    - `x = 15    rev_x = 159`\n",
    "  \n",
    "- Once we reach the last line, we just check if `x` is equal to all digits of `reverse_x` excluding the last (using reverse_x // 10), because it doesn't matter what the middle number 9 is."
   ]
  }
 ],
 "metadata": {
  "kernelspec": {
   "display_name": "Python 3 (ipykernel)",
   "language": "python",
   "name": "python3"
  },
  "language_info": {
   "codemirror_mode": {
    "name": "ipython",
    "version": 3
   },
   "file_extension": ".py",
   "mimetype": "text/x-python",
   "name": "python",
   "nbconvert_exporter": "python",
   "pygments_lexer": "ipython3",
   "version": "3.10.6"
  }
 },
 "nbformat": 4,
 "nbformat_minor": 5
}
