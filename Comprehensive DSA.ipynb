{
 "cells": [
  {
   "cell_type": "markdown",
   "id": "3c5ce6fb-6cee-4fb6-b89a-336c090a662d",
   "metadata": {},
   "source": [
    "# 1. Arrays"
   ]
  },
  {
   "cell_type": "markdown",
   "id": "fb8a300f-b006-4940-9a10-926d78805dbb",
   "metadata": {
    "jp-MarkdownHeadingCollapsed": true,
    "tags": []
   },
   "source": [
    "## [1.1. Arrays - Codebasics](https://www.youtube.com/watch?v=gDqQf4Ekr2A&list=PLeo1K3hjS3uu_n_a__MI_KktGTLYopZ12&index=3)"
   ]
  },
  {
   "cell_type": "markdown",
   "id": "8b4a167b-1c07-49e8-afd9-2da4ac963d86",
   "metadata": {},
   "source": [
    "In Python, integers are stored as 4 bytes (where each byte is 8 bits where 1 bit is a zero or one).\n",
    "\n",
    "<img src=Comp-Images/1.1.1.png width=400 /> <img src=Comp-Images/1.1.2.png width=400 />"
   ]
  },
  {
   "cell_type": "markdown",
   "id": "d4926f5c-b428-4968-adfd-19d35ffc770e",
   "metadata": {},
   "source": [
    "So, to look up an index in an array is just one simple calculation. We take the 0th memory address and add on (index number * size_in_bytes_of(integer)). That's why indexing an array its very fast: O(1).\n",
    "\n",
    "But, looking up is slow (O(n)). That's because we have to iterate through each item in the array, thereby performing n searches."
   ]
  },
  {
   "cell_type": "markdown",
   "id": "218cb6a4-4972-4b54-933c-0d8156e68e35",
   "metadata": {},
   "source": [
    "Python only has dynamic arrays, meaning Python handles memory if the array needs to be bigger dynamically. Languages like Java have static and dynamic types."
   ]
  },
  {
   "cell_type": "markdown",
   "id": "c425ddec-ec09-4037-8722-0e293d6baeca",
   "metadata": {
    "tags": []
   },
   "source": [
    "# 2. Linked Lists"
   ]
  },
  {
   "cell_type": "markdown",
   "id": "e1938f29-a574-45e1-a243-1cd38d4ef480",
   "metadata": {
    "jp-MarkdownHeadingCollapsed": true,
    "tags": []
   },
   "source": [
    "## [2.1. Linked Lists Code Implementation - Codebasics](https://www.youtube.com/watch?v=qp8u-frRAnU&list=PLeo1K3hjS3uu_n_a__MI_KktGTLYopZ12&index=4)"
   ]
  },
  {
   "cell_type": "markdown",
   "id": "aee79945-8fd0-420e-ba19-e839ef170d36",
   "metadata": {},
   "source": [
    "This is what a linked list with an insertion looks like in memory:\n",
    "\n",
    "<img src=Comp-Images/2.1.1.png width=500 />"
   ]
  },
  {
   "cell_type": "markdown",
   "id": "38e4a5e6-7432-4b34-bda5-7515ffc48668",
   "metadata": {},
   "source": [
    "There's a difference between indexing and inserting: Indexing is finding the place of an element. In this context, if we want to go to the 10th index, it will take time O(n=10). If we wanted to go to the 150th index it will take O(n=100), because we have to go through each link in the list. Therefore the time complexity is O(n). Inserting, however, is the time taken to add the new element and set the pointer at the specified location. This is quick. But because we often are inserting to random locations in an array, we must first index to find that location, which is slow (O(n)), before inserting with speed O(1).\n",
    "\n"
   ]
  },
  {
   "cell_type": "markdown",
   "id": "d6ab249d-b9b1-48fe-9283-0448de5a43c3",
   "metadata": {},
   "source": [
    "This is what a double-linked list looks like. We store the pointer of the element after AND before:\n",
    "\n",
    "<img src=Comp-Images/2.1.2.png width=600 />"
   ]
  },
  {
   "cell_type": "markdown",
   "id": "94f9b54e-8728-49ac-9eff-3b0de9da32d8",
   "metadata": {},
   "source": [
    "Code implementation:"
   ]
  },
  {
   "cell_type": "code",
   "execution_count": 84,
   "id": "2fd37a6d-fbc4-4034-9652-8d4d8407f14b",
   "metadata": {},
   "outputs": [],
   "source": [
    "# This is what we store at a memory address\n",
    "class Node:\n",
    "    def __init__(self, data=None, next=None):\n",
    "        self.data = data\n",
    "        self.next = next\n",
    "\n",
    "    \n",
    "class LinkedList:\n",
    "    def __init__(self):\n",
    "        self.head = None\n",
    "    \n",
    "    \n",
    "    def print(self):\n",
    "        \n",
    "        if self.head is None:\n",
    "            print(\"Linked List is empty\")\n",
    "            return\n",
    "        \n",
    "        itr = self.head\n",
    "        ll_as_str = ''\n",
    "        \n",
    "        while itr:\n",
    "            \n",
    "            # Append 'str(itr.data) --> ' if next element is not None, otherwise, just append 'str(itr.data)'\n",
    "            ll_as_str += str(itr.data) + ' --> ' if itr.next else str(itr.data)\n",
    "            itr = itr.next\n",
    "            \n",
    "        print(ll_as_str)\n",
    "    \n",
    "    \n",
    "    def insert_at_beginning(self, data):\n",
    "        \n",
    "        # If the LL has a head, then create a node and put this head after (next) the node.\n",
    "        node = Node(data, self.head)\n",
    "        self.head = node\n",
    "        \n",
    "    def insert_at_end(self, data):\n",
    "        \n",
    "        if self.head is None:\n",
    "            self.head = Node(data, None)\n",
    "            return\n",
    "        \n",
    "        itr = self.head\n",
    "        \n",
    "        # Exhaust the iterator until we know that itr.next is None.\n",
    "        while itr.next:\n",
    "            itr = itr.next\n",
    "        \n",
    "        itr.next = Node(data, None)\n",
    "        \n",
    "    \n",
    "    def get_length(self):\n",
    "        count = 0\n",
    "        itr = self.head\n",
    "        while itr:\n",
    "            count+=1\n",
    "            itr = itr.next\n",
    "\n",
    "        return count\n",
    "    \n",
    "    \n",
    "    def insert_at(self, index, data):\n",
    "        if index<0 or index>self.get_length():\n",
    "            raise Exception(\"Invalid Index\")\n",
    "\n",
    "        if index==0:\n",
    "            self.insert_at_begining(data)\n",
    "            return\n",
    "\n",
    "        count = 0\n",
    "        itr = self.head\n",
    "        while itr:\n",
    "            \n",
    "            # Once we get to the element before our insertion point..\n",
    "            if count == index - 1: \n",
    "                \n",
    "                # ..we need to create our node and make the next one point to the old itr.next.\n",
    "                node = Node(data, itr.next)\n",
    "                itr.next = node\n",
    "                break\n",
    "\n",
    "            itr = itr.next\n",
    "            count += 1\n",
    "            \n",
    "    \n",
    "    def remove_at(self, index):\n",
    "        if index<0 or index>=self.get_length():\n",
    "            raise Exception(\"Invalid Index\")\n",
    "\n",
    "        if index==0:\n",
    "            self.head = self.head.next\n",
    "            return\n",
    "\n",
    "        count = 0\n",
    "        itr = self.head\n",
    "        while itr:\n",
    "            \n",
    "            # Once we get to the element before our deletion point..\n",
    "            if count == index - 1:\n",
    "                # ..we need it to point to the next next element (because the next element has been deprecated). \n",
    "                itr.next = itr.next.next\n",
    "                break\n",
    "\n",
    "            itr = itr.next\n",
    "            count+=1\n",
    "        \n",
    "        \n",
    "    # Converts any iterable to a linked list.\n",
    "    def insert_values(self, data_list_object):\n",
    "        self.head = None\n",
    "        for data in data_list_object:\n",
    "            self.insert_at_end(data)\n",
    "    \n",
    "    "
   ]
  },
  {
   "cell_type": "code",
   "execution_count": 85,
   "id": "1cd9689a-4245-4d20-9519-e5eb54fea94f",
   "metadata": {},
   "outputs": [
    {
     "name": "stdout",
     "output_type": "stream",
     "text": [
      "3 --> 2 --> 1\n"
     ]
    }
   ],
   "source": [
    "ll = LinkedList()\n",
    "ll.insert_at_beginning(1)\n",
    "ll.insert_at_beginning(2)\n",
    "ll.insert_at_beginning(3)\n",
    "\n",
    "ll.print()"
   ]
  },
  {
   "cell_type": "code",
   "execution_count": 86,
   "id": "8a51ecc7-de3b-4e4e-8043-c31c56bb6428",
   "metadata": {},
   "outputs": [
    {
     "name": "stdout",
     "output_type": "stream",
     "text": [
      "3 --> 2 --> 1 --> 4 --> 5\n"
     ]
    }
   ],
   "source": [
    "ll.insert_at_end(4)\n",
    "ll.insert_at_end(5)\n",
    "\n",
    "ll.print()"
   ]
  },
  {
   "cell_type": "code",
   "execution_count": 87,
   "id": "f3e3ac5e-68fa-49fd-82c4-81b16c542e3a",
   "metadata": {},
   "outputs": [
    {
     "name": "stdout",
     "output_type": "stream",
     "text": [
      "pen --> pineapple --> apple --> pen --> grapes\n"
     ]
    }
   ],
   "source": [
    "ll2 = LinkedList()\n",
    "ll2.insert_values(['pen', 'pineapple', 'apple', 'pen', 'grapes'])\n",
    "ll2.print()"
   ]
  },
  {
   "cell_type": "code",
   "execution_count": 88,
   "id": "210da705-824b-469d-b0b0-09fe97bb17c8",
   "metadata": {},
   "outputs": [
    {
     "name": "stdout",
     "output_type": "stream",
     "text": [
      "pen --> pineapple --> apple --> grapes\n"
     ]
    }
   ],
   "source": [
    "# Remove the 'pen' at index 3.\n",
    "ll2.remove_at(3)\n",
    "ll2.print()"
   ]
  },
  {
   "cell_type": "code",
   "execution_count": 89,
   "id": "0f90e02c-20c8-4af9-972e-86115906412d",
   "metadata": {},
   "outputs": [
    {
     "name": "stdout",
     "output_type": "stream",
     "text": [
      "pen --> pineapple --> banana --> apple --> grapes\n"
     ]
    }
   ],
   "source": [
    "# Add the 'banana' at index 2.\n",
    "ll2.insert_at(2, 'banana')\n",
    "ll2.print()"
   ]
  }
 ],
 "metadata": {
  "kernelspec": {
   "display_name": "Python 3 (ipykernel)",
   "language": "python",
   "name": "python3"
  },
  "language_info": {
   "codemirror_mode": {
    "name": "ipython",
    "version": 3
   },
   "file_extension": ".py",
   "mimetype": "text/x-python",
   "name": "python",
   "nbconvert_exporter": "python",
   "pygments_lexer": "ipython3",
   "version": "3.10.6"
  }
 },
 "nbformat": 4,
 "nbformat_minor": 5
}
