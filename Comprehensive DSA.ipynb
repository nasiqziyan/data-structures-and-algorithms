{
 "cells": [
  {
   "cell_type": "markdown",
   "id": "3c5ce6fb-6cee-4fb6-b89a-336c090a662d",
   "metadata": {},
   "source": [
    "# 1. Arrays"
   ]
  },
  {
   "cell_type": "markdown",
   "id": "fb8a300f-b006-4940-9a10-926d78805dbb",
   "metadata": {
    "tags": []
   },
   "source": [
    "## [1.1. Arrays - Codebasics](https://www.youtube.com/watch?v=gDqQf4Ekr2A&list=PLeo1K3hjS3uu_n_a__MI_KktGTLYopZ12&index=3)"
   ]
  },
  {
   "cell_type": "markdown",
   "id": "8b4a167b-1c07-49e8-afd9-2da4ac963d86",
   "metadata": {},
   "source": [
    "In Python, integers are stored as 4 bytes (where each byte is 8 bits where 1 bit is a zero or one).\n",
    "\n",
    "<img src=Comp-Images/1.1.1.png width=400 /> <img src=Comp-Images/1.1.2.png width=400 />"
   ]
  },
  {
   "cell_type": "markdown",
   "id": "d4926f5c-b428-4968-adfd-19d35ffc770e",
   "metadata": {},
   "source": [
    "So, to look up an index in an array is just one simple calculation. We take the 0th memory address and add on (index number * size_in_bytes_of(integer)). That's why indexing an array its very fast: O(1).\n",
    "\n",
    "But, looking up is slow (O(n)). That's because we have to iterate through each item in the array, thereby performing n searches."
   ]
  },
  {
   "cell_type": "markdown",
   "id": "218cb6a4-4972-4b54-933c-0d8156e68e35",
   "metadata": {},
   "source": [
    "Python only has dynamic arrays, meaning Python handles memory if the array needs to be bigger dynamically. Languages like Java have static and dynamic types."
   ]
  },
  {
   "cell_type": "markdown",
   "id": "c425ddec-ec09-4037-8722-0e293d6baeca",
   "metadata": {
    "tags": []
   },
   "source": [
    "# 2. Linked Lists"
   ]
  },
  {
   "cell_type": "markdown",
   "id": "e1938f29-a574-45e1-a243-1cd38d4ef480",
   "metadata": {
    "tags": []
   },
   "source": [
    "## [2.1. Linked Lists Code Implementation - Codebasics](https://www.youtube.com/watch?v=qp8u-frRAnU&list=PLeo1K3hjS3uu_n_a__MI_KktGTLYopZ12&index=4)"
   ]
  },
  {
   "cell_type": "markdown",
   "id": "aee79945-8fd0-420e-ba19-e839ef170d36",
   "metadata": {},
   "source": [
    "This is what a linked list with an insertion looks like in memory:\n",
    "\n",
    "<img src=Comp-Images/2.1.1.png width=500 />"
   ]
  },
  {
   "cell_type": "markdown",
   "id": "38e4a5e6-7432-4b34-bda5-7515ffc48668",
   "metadata": {},
   "source": [
    "There's a difference between indexing and inserting: Indexing is finding the place of an element. In this context, if we want to go to the 10th index, it will take time O(n=10). If we wanted to go to the 150th index it will take O(n=100), because we have to go through each link in the list. Therefore the time complexity is O(n). Inserting, however, is the time taken to add the new element and set the pointer at the specified location. This is quick. But because we often are inserting to random locations in an array, we must first index to find that location, which is slow (O(n)), before inserting with speed O(1).\n",
    "\n"
   ]
  },
  {
   "cell_type": "markdown",
   "id": "d6ab249d-b9b1-48fe-9283-0448de5a43c3",
   "metadata": {},
   "source": [
    "This is what a double-linked list looks like. We store the pointer of the element after AND before:\n",
    "\n",
    "<img src=Comp-Images/2.1.2.png width=600 />"
   ]
  },
  {
   "cell_type": "markdown",
   "id": "94f9b54e-8728-49ac-9eff-3b0de9da32d8",
   "metadata": {},
   "source": [
    "Code implementation:"
   ]
  },
  {
   "cell_type": "code",
   "execution_count": 29,
   "id": "2fd37a6d-fbc4-4034-9652-8d4d8407f14b",
   "metadata": {},
   "outputs": [],
   "source": [
    "# This is what we store at a memory address\n",
    "class Node:\n",
    "    def __init__(self, data=None, next=None):\n",
    "        self.data = data\n",
    "        self.next = next\n",
    "\n",
    "    \n",
    "class LinkedList:\n",
    "    def __init__(self):\n",
    "        self.head = None\n",
    "    \n",
    "    \n",
    "    def print(self):\n",
    "        \n",
    "        if self.head is None:\n",
    "            print(\"Linked List is empty\")\n",
    "            return\n",
    "        \n",
    "        itr = self.head\n",
    "        ll_as_str = ''\n",
    "        \n",
    "        while itr:\n",
    "            \n",
    "            # Append 'str(itr.data) --> ' if next element is not None, otherwise, just append 'str(itr.data)'\n",
    "            ll_as_str += str(itr.data) + ' --> ' if itr.next else str(itr.data)\n",
    "            itr = itr.next\n",
    "            \n",
    "        print(ll_as_str)\n",
    "    \n",
    "    \n",
    "    def insert_at_beginning(self, data):\n",
    "        \n",
    "        # If the LL has a head, then create a node and put this head after (next) the node.\n",
    "        node = Node(data, self.head)\n",
    "        self.head = node\n",
    "        \n",
    "    def insert_at_end(self, data):\n",
    "        \n",
    "        if self.head is None:\n",
    "            self.head = Node(data, None)\n",
    "            return\n",
    "        \n",
    "        itr = self.head\n",
    "        \n",
    "        # Exhaust the iterator until we know that itr.next is None.\n",
    "        while itr.next:\n",
    "            itr = itr.next\n",
    "        \n",
    "        itr.next = Node(data, None)\n",
    "        \n",
    "    \n",
    "    def get_length(self):\n",
    "        count = 0\n",
    "        itr = self.head\n",
    "        while itr:\n",
    "            count+=1\n",
    "            itr = itr.next\n",
    "\n",
    "        return count\n",
    "    \n",
    "    \n",
    "    def insert_at(self, index, data):\n",
    "        if index<0 or index>self.get_length():\n",
    "            raise Exception(\"Invalid Index\")\n",
    "\n",
    "        if index==0:\n",
    "            self.insert_at_begining(data)\n",
    "            return\n",
    "\n",
    "        count = 0\n",
    "        itr = self.head\n",
    "        while itr:\n",
    "            \n",
    "            # Once we get to the element before our insertion point..\n",
    "            if count == index - 1: \n",
    "                \n",
    "                # ..we need to create our node and make the next one point to the old itr.next.\n",
    "                node = Node(data, itr.next)\n",
    "                itr.next = node\n",
    "                break\n",
    "\n",
    "            itr = itr.next\n",
    "            count += 1\n",
    "            \n",
    "    \n",
    "    def remove_at(self, index):\n",
    "        if index<0 or index>=self.get_length():\n",
    "            raise Exception(\"Invalid Index\")\n",
    "\n",
    "        if index==0:\n",
    "            self.head = self.head.next\n",
    "            return\n",
    "\n",
    "        count = 0\n",
    "        itr = self.head\n",
    "        while itr:\n",
    "            \n",
    "            # Once we get to the element before our deletion point..\n",
    "            if count == index - 1:\n",
    "                # ..we need it to point to the next next element (because the next element has been deprecated). \n",
    "                itr.next = itr.next.next\n",
    "                break\n",
    "\n",
    "            itr = itr.next\n",
    "            count+=1\n",
    "        \n",
    "        \n",
    "    # Converts any iterable to a linked list.\n",
    "    def insert_values(self, data_list_object):\n",
    "        self.head = None\n",
    "        for data in data_list_object:\n",
    "            self.insert_at_end(data)\n",
    "    \n",
    "    "
   ]
  },
  {
   "cell_type": "code",
   "execution_count": 30,
   "id": "1cd9689a-4245-4d20-9519-e5eb54fea94f",
   "metadata": {},
   "outputs": [
    {
     "name": "stdout",
     "output_type": "stream",
     "text": [
      "3 --> 2 --> 1\n"
     ]
    }
   ],
   "source": [
    "ll = LinkedList()\n",
    "ll.insert_at_beginning(1)\n",
    "ll.insert_at_beginning(2)\n",
    "ll.insert_at_beginning(3)\n",
    "\n",
    "ll.print()"
   ]
  },
  {
   "cell_type": "code",
   "execution_count": 31,
   "id": "8a51ecc7-de3b-4e4e-8043-c31c56bb6428",
   "metadata": {},
   "outputs": [
    {
     "name": "stdout",
     "output_type": "stream",
     "text": [
      "3 --> 2 --> 1 --> 4 --> 5\n"
     ]
    }
   ],
   "source": [
    "ll.insert_at_end(4)\n",
    "ll.insert_at_end(5)\n",
    "\n",
    "ll.print()"
   ]
  },
  {
   "cell_type": "code",
   "execution_count": 32,
   "id": "f3e3ac5e-68fa-49fd-82c4-81b16c542e3a",
   "metadata": {},
   "outputs": [
    {
     "name": "stdout",
     "output_type": "stream",
     "text": [
      "pen --> pineapple --> apple --> pen --> grapes\n"
     ]
    }
   ],
   "source": [
    "ll2 = LinkedList()\n",
    "ll2.insert_values(['pen', 'pineapple', 'apple', 'pen', 'grapes'])\n",
    "ll2.print()"
   ]
  },
  {
   "cell_type": "code",
   "execution_count": 33,
   "id": "210da705-824b-469d-b0b0-09fe97bb17c8",
   "metadata": {},
   "outputs": [
    {
     "name": "stdout",
     "output_type": "stream",
     "text": [
      "pen --> pineapple --> apple --> grapes\n"
     ]
    }
   ],
   "source": [
    "# Remove the 'pen' at index 3.\n",
    "ll2.remove_at(3)\n",
    "ll2.print()"
   ]
  },
  {
   "cell_type": "code",
   "execution_count": 34,
   "id": "0f90e02c-20c8-4af9-972e-86115906412d",
   "metadata": {},
   "outputs": [
    {
     "name": "stdout",
     "output_type": "stream",
     "text": [
      "pen --> pineapple --> banana --> apple --> grapes\n"
     ]
    }
   ],
   "source": [
    "# Add the 'banana' at index 2.\n",
    "ll2.insert_at(2, 'banana')\n",
    "ll2.print()"
   ]
  },
  {
   "cell_type": "markdown",
   "id": "ee6755a3-2bee-486c-bce7-ef6e683d407f",
   "metadata": {
    "tags": []
   },
   "source": [
    "# 3. Hash Tables"
   ]
  },
  {
   "cell_type": "markdown",
   "id": "0020cb6f-7b50-4a6a-ba88-6713b9fea984",
   "metadata": {},
   "source": [
    "## [3.1. Hash Tables Code Implementation - Codebasics](https://www.youtube.com/watch?v=ea8BRGxGmlA&list=PLeo1K3hjS3uu_n_a__MI_KktGTLYopZ12&index=5)"
   ]
  },
  {
   "cell_type": "code",
   "execution_count": 35,
   "id": "a1fd630c-33c9-4bb0-b492-91aa5030196d",
   "metadata": {},
   "outputs": [],
   "source": [
    "class HashTable:  \n",
    "    def __init__(self):\n",
    "        self.MAX = 100\n",
    "        self.arr = [None for i in range(self.MAX)]\n",
    "        \n",
    "    def get_hash(self, key):\n",
    "        hash = 0\n",
    "        for char in key:\n",
    "            hash += ord(char)\n",
    "        return hash % self.MAX\n",
    "    \n",
    "    # this allows for the '[]' syntax. Objects made with this class will produce a return for obj[index].\n",
    "    def __getitem__(self, index):\n",
    "        h = self.get_hash(index)\n",
    "        return self.arr[h]\n",
    "    \n",
    "    # this allows for the '[] = some_value' syntax. Objects made with this class will enable setting a value to obj[index].\n",
    "    def __setitem__(self, key, val):\n",
    "        h = self.get_hash(key)\n",
    "        self.arr[h] = val    \n",
    "        \n",
    "    def __delitem__(self, key):\n",
    "        h = self.get_hash(key)\n",
    "        self.arr[h] = None        "
   ]
  },
  {
   "cell_type": "code",
   "execution_count": 36,
   "id": "a8f8040b-28ee-4ad1-829f-f425483ba2c8",
   "metadata": {},
   "outputs": [],
   "source": [
    "t = HashTable()\n",
    "\n",
    "# This only works because of the dunder method '__setitem__`\n",
    "t[\"march 6\"] = 310 \n",
    "t[\"march 7\"] = 420"
   ]
  },
  {
   "cell_type": "code",
   "execution_count": 37,
   "id": "1be5c432-9bb9-4032-8e27-d05b524d486d",
   "metadata": {},
   "outputs": [
    {
     "data": {
      "text/plain": [
       "310"
      ]
     },
     "execution_count": 37,
     "metadata": {},
     "output_type": "execute_result"
    }
   ],
   "source": [
    "# This only works because of the dunder method '__getitem__' \n",
    "t[\"march 6\"] "
   ]
  },
  {
   "cell_type": "markdown",
   "id": "432af6c4-2ed9-4bf9-b007-a6a66a810c30",
   "metadata": {
    "tags": []
   },
   "source": [
    "## [3.2. Collision Handling Code Implementation - Codebasics](https://www.youtube.com/watch?v=54iv1si4YCM&list=PLeo1K3hjS3uu_n_a__MI_KktGTLYopZ12&index=6)"
   ]
  },
  {
   "cell_type": "markdown",
   "id": "35f76d64-ea2d-4610-b43d-dbbb4b99a239",
   "metadata": {},
   "source": [
    "We need to modify our HashTable class:\n",
    "- We need to have an empty array for each empty spot in our larger array. Strictly, it should be a linked list but we don't have that in Python.\n",
    "- We need to store the key and value, as opposed to just the value, in the sub-array because, in case of collision, we'll need to manually search for the key within the sub array.\n",
    "- We need to modify '__setitem__'."
   ]
  },
  {
   "cell_type": "code",
   "execution_count": 38,
   "id": "f7a0e6f6-ba32-4368-b73e-b156cbee2a44",
   "metadata": {},
   "outputs": [],
   "source": [
    "class HashTable2:  \n",
    "    def __init__(self):\n",
    "        self.MAX = 10\n",
    "        self.arr = [[] for i in range(self.MAX)]\n",
    "        \n",
    "    def get_hash(self, key):\n",
    "        hash = 0\n",
    "        for char in key:\n",
    "            hash += ord(char)\n",
    "        return hash % self.MAX\n",
    "    \n",
    "    def __getitem__(self, key):\n",
    "        arr_index = self.get_hash(key)\n",
    "        for kv in self.arr[arr_index]:\n",
    "            if kv[0] == key:\n",
    "                return kv[1]\n",
    "            \n",
    "    def __setitem__(self, key, val):\n",
    "        h = self.get_hash(key)\n",
    "        found = False\n",
    "        \n",
    "        # We are looking in the 'linked list' (self.arr[h]) to see if it already exists\n",
    "        for idx, element in enumerate(self.arr[h]):\n",
    "            if len(element)==2 and element[0] == key:\n",
    "                \n",
    "                # If exists, we create a new tuple with the key and value.\n",
    "                self.arr[h][idx] = (key,val)\n",
    "                found = True\n",
    "        \n",
    "        # Otherwise, we append a new tuple to our 'linked list'.\n",
    "        if not found:\n",
    "            self.arr[h].append((key,val))\n",
    "        \n",
    "    def __delitem__(self, key):\n",
    "        arr_index = self.get_hash(key)\n",
    "        for index, kv in enumerate(self.arr[arr_index]):\n",
    "            if kv[0] == key:\n",
    "                print(\"del\",index)\n",
    "                del self.arr[arr_index][index]"
   ]
  },
  {
   "cell_type": "markdown",
   "id": "1e20745d-3fca-4a27-a29d-f7e7672810b3",
   "metadata": {},
   "source": [
    "'march 6' and 'march 17' produce the same hash (because they have the same ord total), therefore we expect to see a 'linked list' with both of them."
   ]
  },
  {
   "cell_type": "code",
   "execution_count": 39,
   "id": "aa9bdfa0-5350-4317-8a08-df39780e74a8",
   "metadata": {},
   "outputs": [
    {
     "data": {
      "text/plain": [
       "[[],\n",
       " [('march 8', 50)],\n",
       " [],\n",
       " [],\n",
       " [],\n",
       " [],\n",
       " [],\n",
       " [],\n",
       " [],\n",
       " [('march 6', 120), ('march 17', 459)]]"
      ]
     },
     "execution_count": 39,
     "metadata": {},
     "output_type": "execute_result"
    }
   ],
   "source": [
    "t2 = HashTable2()\n",
    "\n",
    "t2['march 6'] = 120\n",
    "t2['march 8'] = 50 # No clash with this one.\n",
    "t2['march 17'] = 459\n",
    "\n",
    "t2.arr"
   ]
  },
  {
   "cell_type": "markdown",
   "id": "b9e7282e-9e2e-4d2b-9f34-731d9cfc5cde",
   "metadata": {
    "tags": []
   },
   "source": [
    "# 4. Stacks"
   ]
  },
  {
   "cell_type": "markdown",
   "id": "af16a25d-3cda-42e0-a441-fdef03a756b5",
   "metadata": {
    "tags": []
   },
   "source": [
    "## [4.1. Stacks basics - Codebasics](https://www.youtube.com/watch?v=zwb3GmNAtFk&list=PLeo1K3hjS3uu_n_a__MI_KktGTLYopZ12&index=7)"
   ]
  },
  {
   "cell_type": "markdown",
   "id": "c4eaf5fc-b39a-46df-a989-0de5364ce1f4",
   "metadata": {},
   "source": [
    "If you're going through a number of webpages and you want to go back a few pages, how does the web browser know the order? We could use an array or linked list, but arrays have an issue if youre browsing through many websites and linkedlists are slow because, if you want to go to the last website you visited, you have to traverse the entire linked list with time O(n).\n",
    "\n",
    "Stacks are used for any 'ctrl + z' functionality e.g. in word."
   ]
  },
  {
   "cell_type": "markdown",
   "id": "bd7b033f-aff0-4538-8909-03efe5e3d5fe",
   "metadata": {},
   "source": [
    "<img src=Comp-Images/4.1.1.png width=600 />"
   ]
  },
  {
   "cell_type": "markdown",
   "id": "e5baf500-01a8-4b9d-a707-9bbff025c3c8",
   "metadata": {},
   "source": [
    "The solution is a stack:"
   ]
  },
  {
   "cell_type": "markdown",
   "id": "70c524ec-9508-48a3-925a-5a74879414ba",
   "metadata": {},
   "source": [
    "<img src=Comp-Images/4.1.2.png width=600 />"
   ]
  },
  {
   "cell_type": "markdown",
   "id": "bfcfdf15-08a5-426f-a042-73503ae9e8c6",
   "metadata": {},
   "source": [
    "Time complexity:\n",
    "\n",
    "- Push/Pop element -> O(1)\n",
    "- Search element by value -> O(n)"
   ]
  },
  {
   "cell_type": "markdown",
   "id": "c36455bb-8420-4017-9ab3-12115d7d5f22",
   "metadata": {},
   "source": [
    "Stacks are implemented in Python using:\n",
    "- lists \n",
    "- collections.deque (implemented using a doubly linked list) -> `stack = deque()` followed by `stack.append(5)`, `stack.pop()` etc.\n",
    "- queue.LifoQueue "
   ]
  },
  {
   "cell_type": "markdown",
   "id": "f8067497-934c-49e1-9bf0-4430703511be",
   "metadata": {
    "tags": []
   },
   "source": [
    "# 5. Queues"
   ]
  },
  {
   "cell_type": "markdown",
   "id": "41b5e102-9cba-4020-b6df-eaad5eef3f53",
   "metadata": {
    "tags": []
   },
   "source": [
    "## [5.1. Queues Basics - Codebasics](https://www.youtube.com/watch?v=rUUrmGKYwHw&list=PLeo1K3hjS3uu_n_a__MI_KktGTLYopZ12&index=8)"
   ]
  },
  {
   "cell_type": "markdown",
   "id": "25798b73-5d16-43fe-9f9b-99bbab3f1323",
   "metadata": {},
   "source": [
    "Say you're a developer for the New York Stock Exchange (NYSE) and a bunch of companies want financial data, so you make synchronous post calls to all these companies:\n",
    "\n",
    "<img src=Comp-Images/5.1.1.png width=700 />"
   ]
  },
  {
   "cell_type": "markdown",
   "id": "5bd7d0e0-ff47-4623-a798-6ecd6c6592cd",
   "metadata": {},
   "source": [
    "This is called a **tightly coupled architecture**. Whenever another company wants the financial info, there have to be code changes to ensure that the right website gets the right information. So, 'finance.google.com' have to be added to the list of post calls. Another issue is if yahoo's HTTP server goes down for 5 mins, they will lose out on all that data because NYSE is making synchronous posts.\n",
    "\n",
    "What if instead NYSE pushed the data into a memory buffer. This is a **loosely coupled architecture** (aka producer-consumer problem):\n",
    "\n",
    "<img src=Comp-Images/5.1.2.png width=700 />\n",
    "\n",
    "The data structure is **FIFO**."
   ]
  },
  {
   "cell_type": "markdown",
   "id": "0ab3ec8e-0d73-4ee7-a7d0-bff4d9931124",
   "metadata": {},
   "source": [
    "Python implementations:\n",
    "- lists\n",
    "- collections.deque (implemented using a doubly linked list) -> `q = deque()` followed by `q.append(5)`, `q.popleft()` etc.\n",
    "- queue.Queue"
   ]
  },
  {
   "cell_type": "markdown",
   "id": "af2f6852-48a3-4aaa-b33c-095cb2a39f82",
   "metadata": {},
   "source": [
    "# 6. Heaps"
   ]
  },
  {
   "cell_type": "markdown",
   "id": "05e88fe6-4d20-4bb4-8730-152c35f49d78",
   "metadata": {
    "tags": []
   },
   "source": [
    "# 7. Trees"
   ]
  },
  {
   "cell_type": "markdown",
   "id": "136a80f3-cf31-410d-8380-7e9da172575c",
   "metadata": {
    "jp-MarkdownHeadingCollapsed": true,
    "tags": []
   },
   "source": [
    "## [7.1. General Trees Code Implementation - Codebasics](https://www.youtube.com/watch?v=4r_XR9fUPhQ&list=PLeo1K3hjS3uu_n_a__MI_KktGTLYopZ12&index=9)"
   ]
  },
  {
   "cell_type": "markdown",
   "id": "394534d2-dd8b-456b-8d37-38d8d671abfe",
   "metadata": {},
   "source": [
    "These are useful for information that has a natural hierarchical structure. \n",
    "- The root of the tree is called the **root node**. \n",
    "- Other elements are known as **nodes**. \n",
    "- The elements that have no children are called **leaf nodes**.\n",
    "- Nodes have parents, children and ancestors.\n",
    "- The tree structure can be referred to by levels where level 0 is the root node, level 1 are its children etc."
   ]
  },
  {
   "cell_type": "code",
   "execution_count": 40,
   "id": "30c27466-0b41-4783-9af1-6047e966cc58",
   "metadata": {},
   "outputs": [],
   "source": [
    "class TreeNode:\n",
    "    def __init__(self, data):\n",
    "        self.data = data\n",
    "        self.children = []\n",
    "        self.parent = None\n",
    "\n",
    "    def get_level(self):\n",
    "        level = 0\n",
    "        p = self.parent\n",
    "        while p:\n",
    "            level += 1\n",
    "            p = p.parent\n",
    "\n",
    "        return level\n",
    "\n",
    "    def print_tree(self):\n",
    "        spaces = ' ' * self.get_level() * 3\n",
    "        prefix = spaces + \"|__\" if self.parent else \"\"\n",
    "        print(prefix + self.data)\n",
    "        if self.children:\n",
    "            for child in self.children:\n",
    "                child.print_tree()\n",
    "\n",
    "    def add_child(self, child):\n",
    "        child.parent = self\n",
    "        self.children.append(child)\n",
    "        \n",
    "        \n",
    "def build_product_tree():\n",
    "    root = TreeNode(\"Electronics\")\n",
    "\n",
    "    laptop = TreeNode(\"Laptop\")\n",
    "    laptop.add_child(TreeNode(\"Mac\"))\n",
    "    laptop.add_child(TreeNode(\"Surface\"))\n",
    "    laptop.add_child(TreeNode(\"Thinkpad\"))\n",
    "\n",
    "    cellphone = TreeNode(\"Cell Phone\")\n",
    "    cellphone.add_child(TreeNode(\"iPhone\"))\n",
    "    cellphone.add_child(TreeNode(\"Google Pixel\"))\n",
    "    cellphone.add_child(TreeNode(\"Vivo\"))\n",
    "\n",
    "    tv = TreeNode(\"TV\")\n",
    "    tv.add_child(TreeNode(\"Samsung\"))\n",
    "    tv.add_child(TreeNode(\"LG\"))\n",
    "\n",
    "    root.add_child(laptop)\n",
    "    root.add_child(cellphone)\n",
    "    root.add_child(tv)\n",
    "\n",
    "    root.print_tree()"
   ]
  },
  {
   "cell_type": "code",
   "execution_count": 41,
   "id": "c66b51da-36fe-4c46-81d0-aaac101c5bdc",
   "metadata": {},
   "outputs": [
    {
     "name": "stdout",
     "output_type": "stream",
     "text": [
      "Electronics\n",
      "   |__Laptop\n",
      "      |__Mac\n",
      "      |__Surface\n",
      "      |__Thinkpad\n",
      "   |__Cell Phone\n",
      "      |__iPhone\n",
      "      |__Google Pixel\n",
      "      |__Vivo\n",
      "   |__TV\n",
      "      |__Samsung\n",
      "      |__LG\n"
     ]
    }
   ],
   "source": [
    "build_product_tree()"
   ]
  },
  {
   "cell_type": "markdown",
   "id": "3cab639d-6f85-4de3-b257-8ad4992529b7",
   "metadata": {},
   "source": [
    "## [7.2. Binary Search Trees Code Implementation - Codebasics](https://www.youtube.com/watch?v=lFq5mYUWEBk&list=PLeo1K3hjS3uu_n_a__MI_KktGTLYopZ12&index=10)"
   ]
  },
  {
   "cell_type": "markdown",
   "id": "9c9c179f-9006-4c9b-8e2f-c4ca6555186d",
   "metadata": {},
   "source": [
    "The difference between a **binary tree** and a **binary search tree** is that **binary search trees** have some kind of order e.g. *all* nodes on the left side of a particular node will have values less than than that node's value. Another difference is that all BST nodes are unique. There are no duplicates anywhere in the entire tree. \n",
    "\n",
    "The search complexity of BSTs is O(logn) because with every iteration, we reduce the search space by half.\n",
    "\n",
    "Insertions go through the same reductions with each iteration, therefore, insert complexity is also O(logn)."
   ]
  },
  {
   "cell_type": "markdown",
   "id": "803dd505-d48b-4f9d-9a65-cd6807dd7b5d",
   "metadata": {},
   "source": [
    "**Depth first search** - There are 3 types of traversal: in-order, pre-order, post-order.\n",
    "\n",
    "What's the difference?\n",
    "\n",
    "<img src=Comp-Images/7.2.1.png width=700 />"
   ]
  },
  {
   "cell_type": "markdown",
   "id": "ce94bc9d-26b8-4725-b280-26d7de276022",
   "metadata": {},
   "source": [
    "- Pre-order: You visit your parent node first, then left subtree, then right subtree.\n",
    "- In-order: You visit your left subtree first, then parent node, then right subtree.\n",
    "- Post-order: You visit your left subtree first, then right subtree, then parent node.\n",
    "\n",
    "To remember this easily, just consider the parent node; if it's in order, it goes in the middle; if its pre-order, it goes on the left; if it's post-order, it goes on the right.\n",
    "\n",
    "**IN ORDER TRAVERSAL** - You will notice that this returns the elements in **ascending order** and not return elements that are duplicates.\n",
    "\n",
    "So to explain the the in-order traversal array of the base node **15**:\n",
    "\n",
    "- We go to (but not visit) the left subtree of 15 which is 12. How do we traverse the 12 subtree? By visiting its left subtree -> 7.\n",
    "- After we visit 7 (left), we visit 12 (parent), then visit 14 (right). The 12 subtree has been traversed.\n",
    "- We jump to the right subtree of 15 which is 27. How do we traverse the 27 subtree? By visiting its left subtree -> 20. \n",
    "- How do we traverse 20? By visiting its left subtree (non-existent), then visit its parent 20 and then 23 (right). 20 has been traversed.. Continue traversal of 27.\n",
    "- We visited its left subtree (20), now visit 27 (parent), then visit the 88 (right)."
   ]
  },
  {
   "cell_type": "markdown",
   "id": "a9e33cb4-8f57-42a6-bc8b-0f3a0e40a67f",
   "metadata": {},
   "source": [
    "**Code Implementation**"
   ]
  },
  {
   "cell_type": "code",
   "execution_count": 1,
   "id": "ec9c35ac-9ab0-467e-8ab9-f57345728e1b",
   "metadata": {},
   "outputs": [
    {
     "name": "stdout",
     "output_type": "stream",
     "text": [
      "Building tree with these elements: ['India', 'Pakistan', 'Germany', 'USA', 'China', 'India', 'UK', 'USA']\n",
      "UK is in the list?  True\n",
      "Sweden is in the list?  False\n",
      "Building tree with these elements: [17, 4, 1, 20, 9, 23, 18, 34]\n",
      "In order traversal gives this sorted list: [1, 4, 9, 17, 18, 20, 23, 34]\n"
     ]
    }
   ],
   "source": [
    "class BinarySearchTreeNode:\n",
    "    def __init__(self, data):\n",
    "        self.data = data\n",
    "        self.left = None\n",
    "        self.right = None\n",
    "\n",
    "    def add_child(self, data):\n",
    "        if data == self.data:\n",
    "            return # node already exist\n",
    "\n",
    "        if data < self.data:\n",
    "            if self.left:\n",
    "                self.left.add_child(data)\n",
    "            else:\n",
    "                self.left = BinarySearchTreeNode(data)\n",
    "        else:\n",
    "            if self.right:\n",
    "                self.right.add_child(data)\n",
    "            else:\n",
    "                self.right = BinarySearchTreeNode(data)\n",
    "\n",
    "\n",
    "    def search(self, val):\n",
    "        if self.data == val:\n",
    "            return True\n",
    "\n",
    "        if val < self.data:\n",
    "            if self.left:\n",
    "                return self.left.search(val)\n",
    "            else:\n",
    "                return False\n",
    "\n",
    "        if val > self.data:\n",
    "            if self.right:\n",
    "                return self.right.search(val)\n",
    "            else:\n",
    "                return False\n",
    "\n",
    "    def in_order_traversal(self):\n",
    "        elements = []\n",
    "        if self.left:\n",
    "            elements += self.left.in_order_traversal()\n",
    "\n",
    "        elements.append(self.data)\n",
    "\n",
    "        if self.right:\n",
    "            elements += self.right.in_order_traversal()\n",
    "\n",
    "        return elements\n",
    "\n",
    "\n",
    "def build_tree(elements):\n",
    "    print(\"Building tree with these elements:\",elements)\n",
    "    root = BinarySearchTreeNode(elements[0])\n",
    "\n",
    "    for i in range(1,len(elements)):\n",
    "        root.add_child(elements[i])\n",
    "\n",
    "    return root\n",
    "\n",
    "\n",
    "countries = [\"India\",\"Pakistan\",\"Germany\", \"USA\",\"China\",\"India\",\"UK\",\"USA\"]\n",
    "country_tree = build_tree(countries)\n",
    "\n",
    "print(\"UK is in the list? \", country_tree.search(\"UK\"))\n",
    "print(\"Sweden is in the list? \", country_tree.search(\"Sweden\"))\n",
    "\n",
    "numbers_tree = build_tree([17, 4, 1, 20, 9, 23, 18, 34])\n",
    "print(\"In order traversal gives this sorted list:\",numbers_tree.in_order_traversal())"
   ]
  },
  {
   "cell_type": "markdown",
   "id": "38ca4789-2fa6-4db1-a9e3-1500eff86a42",
   "metadata": {},
   "source": [
    "The pre- and post-order traversals are just minor modifications to the above code."
   ]
  },
  {
   "cell_type": "markdown",
   "id": "6fdd602f-64e3-4a3c-9e1e-1bf7ff7711cd",
   "metadata": {},
   "source": [
    "## [7.3. Binary Search Trees + Deleting Nodes + Code Implementation - Codebasics](https://www.youtube.com/watch?v=JnrbMQyGLiU&list=PLeo1K3hjS3uu_n_a__MI_KktGTLYopZ12&index=11)"
   ]
  },
  {
   "cell_type": "markdown",
   "id": "18180e83-0a17-49c9-8db7-4ff8ad3b4104",
   "metadata": {},
   "source": [
    "Deleting leaf nodes or nodes with only 1 child is relatively trivial; in the latter case you just replace your deleted node with the child. But deleting nodes with two children is more difficult.\n",
    "\n",
    "<img src=Comp-Images/7.3.1.png width=600 />"
   ]
  },
  {
   "cell_type": "markdown",
   "id": "b9b283f7-52b0-4328-8b8f-db47456a8c05",
   "metadata": {},
   "source": [
    "The two rules of BSTs are:\n",
    "- all nodes are unique.\n",
    "- nodes to the left are smaller and nodes to the right are larger.\n",
    "\n",
    "One approach is to:\n",
    "- look into the **right subtree** and find the **minimum value** from the entire right subtree. \n",
    "- **replace** the node you want to delete with this minimum value node.\n",
    "- Remove the duplicate. (The higher level node becomes the original and the lower level node becomes the duplicate.)\n",
    "- This guarantees that all nodes in the right subtree are greater than the node that replaced the deleted node.\n",
    "\n",
    "Another approach is: (basically the inverse of the above approach)\n",
    "- look into the **left subtree** and find the **minimum value** from the entire left subtree. \n",
    "- **replace** the node you want to delete with this minimum value node.\n",
    "- Remove the duplicate. (The higher level node becomes the original and the lower level node becomes the duplicate.)\n",
    "- This guarantees that all nodes in the left subtree are smaller than the node that replaced the deleted node."
   ]
  },
  {
   "cell_type": "markdown",
   "id": "9c5bbbf0-44f0-467f-a5b4-34902d1b86e6",
   "metadata": {},
   "source": [
    "**Code Implementation**\n",
    "\n",
    "Focus on the `find_min`, `find_max` and `delete` function"
   ]
  },
  {
   "cell_type": "code",
   "execution_count": 6,
   "id": "fcee55b6-75b1-4a32-a350-3524e327a1a0",
   "metadata": {},
   "outputs": [
    {
     "name": "stdout",
     "output_type": "stream",
     "text": [
      "Building tree with these elements: [17, 4, 1, 20, 9, 23, 18, 34]\n",
      "After deleting 20  [1, 4, 9, 17, 18, 23, 34]\n"
     ]
    }
   ],
   "source": [
    "class BinarySearchTreeNode:\n",
    "    def __init__(self, data):\n",
    "        self.data = data\n",
    "        self.left = None\n",
    "        self.right = None\n",
    "\n",
    "    def add_child(self, data):\n",
    "        if data == self.data:\n",
    "            return # node already exist\n",
    "\n",
    "        if data < self.data:\n",
    "            if self.left:\n",
    "                self.left.add_child(data)\n",
    "            else:\n",
    "                self.left = BinarySearchTreeNode(data)\n",
    "        else:\n",
    "            if self.right:\n",
    "                self.right.add_child(data)\n",
    "            else:\n",
    "                self.right = BinarySearchTreeNode(data)\n",
    "\n",
    "\n",
    "    def search(self, val):\n",
    "        if self.data == val:\n",
    "            return True\n",
    "\n",
    "        if val < self.data:\n",
    "            if self.left:\n",
    "                return self.left.search(val)\n",
    "            else:\n",
    "                return False\n",
    "\n",
    "        if val > self.data:\n",
    "            if self.right:\n",
    "                return self.right.search(val)\n",
    "            else:\n",
    "                return False\n",
    "\n",
    "    def in_order_traversal(self):\n",
    "        elements = []\n",
    "        if self.left:\n",
    "            elements += self.left.in_order_traversal()\n",
    "\n",
    "        elements.append(self.data)\n",
    "\n",
    "        if self.right:\n",
    "            elements += self.right.in_order_traversal()\n",
    "\n",
    "        return elements\n",
    "    \n",
    "    #-----------------------NEW CODE-----------------------\n",
    "\n",
    "    def find_max(self):\n",
    "        if self.right is None:\n",
    "            return self.data\n",
    "        return self.right.find_max()\n",
    "\n",
    "    def find_min(self):\n",
    "        if self.left is None:\n",
    "            return self.data\n",
    "        return self.left.find_min()\n",
    "    \n",
    "    def delete(self, val):\n",
    "        if val < self.data:\n",
    "            if self.left:\n",
    "                self.left = self.left.delete(val)\n",
    "        elif val > self.data:\n",
    "            if self.right:\n",
    "                self.right = self.right.delete(val)\n",
    "        else:\n",
    "            \n",
    "            # If we reach here, it means we've found the node that we want to delete.\n",
    "            # But, we could still have subtrees below.\n",
    "            # Remember that, from this point on in the code, our current position is at the node we want\n",
    "            # to delete. So, all self.left etc is relative to this base node.\n",
    "            \n",
    "            # Our node is actually a leaf node.\n",
    "            if self.left is None and self.right is None:\n",
    "                return None\n",
    "            \n",
    "            # Our node is a parent to a leaf node.\n",
    "            elif self.left is None:\n",
    "                return self.right\n",
    "            \n",
    "            # Our node is a parent to a leaf node\n",
    "            elif self.right is None:\n",
    "                return self.left\n",
    "            \n",
    "            # Use the first approach of deleting a node i.e. min val in right subtree.\n",
    "            # BELOW and in the right subtree of the node we want to delete, we're finding the minimum value.\n",
    "            min_val = self.right.find_min()\n",
    "            \n",
    "            # We 'delete' our node by replacing it with the minimum value from the right subtree.\n",
    "            self.data = min_val\n",
    "            \n",
    "            # We get rid of any duplicates below our newly replaced node. This is where the None's are used;\n",
    "            # we need to fill in the duplicate with None or one of the children.\n",
    "            self.right = self.right.delete(min_val)\n",
    "\n",
    "        return self\n",
    "\n",
    "\n",
    "def build_tree(elements):\n",
    "    print(\"Building tree with these elements:\",elements)\n",
    "    root = BinarySearchTreeNode(elements[0])\n",
    "\n",
    "    for i in range(1,len(elements)):\n",
    "        root.add_child(elements[i])\n",
    "\n",
    "    return root\n",
    "\n",
    "if __name__ == '__main__':\n",
    "    numbers_tree = build_tree([17, 4, 1, 20, 9, 23, 18, 34])\n",
    "    numbers_tree.delete(20)\n",
    "    print(\"After deleting 20 \",numbers_tree.in_order_traversal()) # this should print [1, 4, 9, 17, 18, 23, 34]"
   ]
  },
  {
   "cell_type": "markdown",
   "id": "0bf985f8-1ab0-4b28-8629-6056270f55cb",
   "metadata": {},
   "source": [
    "Run the above in PythonTutor and add a print statement above `if val < self.data:` and above the final `return self`. Also draw the tree too."
   ]
  },
  {
   "cell_type": "markdown",
   "id": "e2cd1e14-e361-4be2-a95f-9eb5f2660431",
   "metadata": {},
   "source": [
    "Here is a diagram explanation of the first example: (left to right)\n",
    "\n",
    "<img src=Comp-Images/7.3.2.png width=600 /> <img src=Comp-Images/7.3.3.png width=600 /> \n",
    "<img src=Comp-Images/7.3.4.png width=600 /> <img src=Comp-Images/7.3.5.png width=600 /> \n",
    "<img src=Comp-Images/7.3.6.png width=600 /> \n"
   ]
  },
  {
   "cell_type": "markdown",
   "id": "ddd589b3-c312-447f-91a4-19010999a54f",
   "metadata": {},
   "source": [
    "# 8. Graphs"
   ]
  },
  {
   "cell_type": "markdown",
   "id": "06e28730-2759-4514-a926-f47c4a3b8eef",
   "metadata": {},
   "source": [
    "# 9. Binary Search"
   ]
  },
  {
   "cell_type": "markdown",
   "id": "4deb9823-d1ab-4aed-b41a-5e260336ee37",
   "metadata": {},
   "source": [
    "<img src=Comp-Images/9.1.png width=900 />"
   ]
  },
  {
   "cell_type": "markdown",
   "id": "7f964232-837c-45a1-9e3c-40780896ae14",
   "metadata": {},
   "source": [
    "# 10. Bubble Sort"
   ]
  },
  {
   "cell_type": "markdown",
   "id": "5e8cbda6-6070-4207-9c82-0abe2397cebe",
   "metadata": {},
   "source": [
    "<img src=Comp-Images/10.1.png width=700 />\n",
    "\n",
    "With bubble sort, we compute a pairwise comparison with the first two elements and then work our way up to the end. This causes the largest number to **'bubble'** up to the end of the array. We repeat this process until all elements are ordered.\n",
    "\n",
    "This has terrible time complexity but good space complexity\n",
    "\n",
    "- Time complexity: O(n^2)\n",
    "- Space Complexity: O(1) (This is because we don't need any additional space - we just use the same array and swap numbers around."
   ]
  },
  {
   "cell_type": "code",
   "execution_count": 14,
   "id": "cec44a3c-8090-4f3e-b2eb-036a8241738e",
   "metadata": {},
   "outputs": [
    {
     "name": "stdout",
     "output_type": "stream",
     "text": [
      "[1, 2, 5, 9, 34, 34, 67, 88]\n"
     ]
    }
   ],
   "source": [
    "def bubble_sort(elements):\n",
    "    size = len(elements)\n",
    "\n",
    "    for i in range(size-1):\n",
    "        swapped = False\n",
    "        for j in range(size-1-i):\n",
    "            if elements[j] > elements[j+1]:\n",
    "                tmp = elements[j]\n",
    "                elements[j] = elements[j+1]\n",
    "                elements[j+1] = tmp\n",
    "                swapped = True\n",
    "\n",
    "        if not swapped:\n",
    "            break\n",
    "\n",
    "\n",
    "elements = [5,9,2,1,67,34,88,34]\n",
    "# elements = [1,2,3,4,2]\n",
    "# elements = [\"mona\", \"dhaval\", \"aamir\", \"tina\", \"chang\"]\n",
    "\n",
    "bubble_sort(elements)\n",
    "print(elements)"
   ]
  },
  {
   "cell_type": "markdown",
   "id": "40478bc8-e6d8-48df-bdbc-a77162265d83",
   "metadata": {},
   "source": [
    "# 11. Quick Sort"
   ]
  },
  {
   "cell_type": "markdown",
   "id": "d42c8eef-e2c9-4f8e-b8ec-de01b3991698",
   "metadata": {},
   "source": [
    "There are two ways to quick sort that are different to the easy recursive way in the Grokking Algorithms notebook. These are:\n",
    "- Hoare Partition Scheme\n",
    "- Lomuto Partition Scheme"
   ]
  },
  {
   "cell_type": "markdown",
   "id": "94693b38-4401-406c-8278-b5e36b8c24d0",
   "metadata": {},
   "source": [
    "## [11.1. Hoare Implementation - Codebasics](https://www.youtube.com/watch?v=5iSZ7mh_RAk&list=PLeo1K3hjS3uu_n_a__MI_KktGTLYopZ12&index=15)"
   ]
  },
  {
   "cell_type": "markdown",
   "id": "4ca36505-e74c-4fa3-bc89-b7a93541ce8f",
   "metadata": {},
   "source": [
    "Steps:\n",
    "\n",
    "<img src=Comp-Images/11.1.1.png width=400 />\n",
    "\n",
    "1. Choose a pivot (choosing first element...)\n",
    "\n",
    "2. Set the start pointer to the next element and the end pointer to the last element.\n",
    "\n",
    "3. Keep moving the start pointer to the next element until you find an element **less than the pivot** and then STOP.\n",
    "\n",
    "<img src=Comp-Images/11.1.2.png width=400 />\n",
    "\n",
    "4. Now move the end pointer to the previous element until you find an element **greater than the pivot** and then STOP.\n",
    "\n",
    "<img src=Comp-Images/11.1.3.png width=400 />\n",
    "\n",
    "5. Swap the elements at the start and end pointer.\n",
    "\n",
    "<img src=Comp-Images/11.1.4.png width=400 />\n",
    "\n",
    "6. Repeat from step 3: Move the start pointer to the next element until you find an element **less than the pivot** and then STOP.\n",
    "\n",
    "<img src=Comp-Images/11.1.5.png width=400 />\n",
    "\n",
    "7. We're moving to step 4..\n",
    "\n",
    "<img src=Comp-Images/11.1.6.png width=400 />\n",
    "\n",
    "8. But, if the end pointer precedes the start pointer, **swap the end and the pivot**.\n",
    "\n",
    "<img src=Comp-Images/11.1.7.png width=400 />\n",
    "\n",
    "9. The pivot is now in the correct position. Repeat for the left partition and right partition recursively."
   ]
  },
  {
   "cell_type": "code",
   "execution_count": 15,
   "id": "f510bbb3-86b7-4735-870c-bea7d009da1b",
   "metadata": {},
   "outputs": [
    {
     "data": {
      "text/plain": [
       "[2, 7, 9, 11, 15, 28, 29]"
      ]
     },
     "execution_count": 15,
     "metadata": {},
     "output_type": "execute_result"
    }
   ],
   "source": [
    "# implementation of quick sort in python using hoare partition scheme\n",
    "\n",
    "class Sort:\n",
    "    def quicksort(self, array, low, high):\n",
    "        if low < high:\n",
    "            # Get the pivot in the right place.\n",
    "            pivot = self.partition(array, low, high)\n",
    "            \n",
    "            # Sort the left side of the partition.\n",
    "            self.quicksort(array, low, pivot)\n",
    "            \n",
    "            # Sort the left side of the partition.\n",
    "            self.quicksort(array, pivot + 1, high)\n",
    "\n",
    "    def partition(self, array, low, high):\n",
    "        pivot = array[(high + low) // 2]\n",
    "        i = low\n",
    "        j = high\n",
    "\n",
    "        while True:\n",
    "            while array[i] < pivot:\n",
    "                i += 1\n",
    "            while array[j] > pivot:\n",
    "                j -= 1\n",
    "            if i >= j:\n",
    "                return j\n",
    "            array[i], array[j] = array[j], array[i]\n",
    "    \n",
    "    # Main function to call\n",
    "    def sort(self, array):\n",
    "        self.quicksort(array, 0, len(array) - 1)\n",
    "        return array\n",
    "    \n",
    "\n",
    "my_arr = [11,9,29,7,2,15,28]\n",
    "\n",
    "sort_object = Sort()\n",
    "\n",
    "sort_object.sort(my_arr)"
   ]
  },
  {
   "cell_type": "code",
   "execution_count": null,
   "id": "153dc007-3762-44db-a111-d5ebaa09a901",
   "metadata": {},
   "outputs": [],
   "source": []
  }
 ],
 "metadata": {
  "kernelspec": {
   "display_name": "Python 3 (ipykernel)",
   "language": "python",
   "name": "python3"
  },
  "language_info": {
   "codemirror_mode": {
    "name": "ipython",
    "version": 3
   },
   "file_extension": ".py",
   "mimetype": "text/x-python",
   "name": "python",
   "nbconvert_exporter": "python",
   "pygments_lexer": "ipython3",
   "version": "3.10.6"
  }
 },
 "nbformat": 4,
 "nbformat_minor": 5
}
