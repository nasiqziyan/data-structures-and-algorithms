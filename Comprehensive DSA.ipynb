{
 "cells": [
  {
   "cell_type": "markdown",
   "id": "3c5ce6fb-6cee-4fb6-b89a-336c090a662d",
   "metadata": {},
   "source": [
    "# 1. Arrays"
   ]
  },
  {
   "cell_type": "markdown",
   "id": "fb8a300f-b006-4940-9a10-926d78805dbb",
   "metadata": {},
   "source": [
    "## [1. Arrays - Codebasics](https://www.youtube.com/watch?v=gDqQf4Ekr2A&list=PLeo1K3hjS3uu_n_a__MI_KktGTLYopZ12&index=3)"
   ]
  },
  {
   "cell_type": "markdown",
   "id": "8b4a167b-1c07-49e8-afd9-2da4ac963d86",
   "metadata": {},
   "source": [
    "In Python, integers are stored as 4 bytes (where each byte is 8 bits where 1 bit is a zero or one).\n",
    "\n",
    "<img src=Comp-Images/1.1.1.png width=400 /> <img src=Comp-Images/1.1.2.png width=400 />"
   ]
  },
  {
   "cell_type": "markdown",
   "id": "d4926f5c-b428-4968-adfd-19d35ffc770e",
   "metadata": {},
   "source": [
    "So, to look up an index in an array is just one simple calculation. We take the 0th memory address and add on (index number * size_in_bytes_of(integer)). That's why indexing an array its very fast: O(1).\n",
    "\n",
    "But, looking up is slow (O(n)). That's because we have to iterate through each item in the array, thereby performing n searches."
   ]
  },
  {
   "cell_type": "markdown",
   "id": "218cb6a4-4972-4b54-933c-0d8156e68e35",
   "metadata": {},
   "source": [
    "Python only has dynamic arrays, meaning Python handles memory if the array needs to be bigger dynamically. Languages like Java have static and dynamic types."
   ]
  },
  {
   "cell_type": "markdown",
   "id": "c425ddec-ec09-4037-8722-0e293d6baeca",
   "metadata": {},
   "source": [
    "# 2. Linked Lists"
   ]
  },
  {
   "cell_type": "markdown",
   "id": "e1938f29-a574-45e1-a243-1cd38d4ef480",
   "metadata": {},
   "source": [
    "## [Linked Lists - Codebasics](https://www.youtube.com/watch?v=qp8u-frRAnU&list=PLeo1K3hjS3uu_n_a__MI_KktGTLYopZ12&index=4)"
   ]
  },
  {
   "cell_type": "code",
   "execution_count": null,
   "id": "a571a0b3-60f5-4e2d-a664-ead73ca67c04",
   "metadata": {},
   "outputs": [],
   "source": []
  }
 ],
 "metadata": {
  "kernelspec": {
   "display_name": "Python 3 (ipykernel)",
   "language": "python",
   "name": "python3"
  },
  "language_info": {
   "codemirror_mode": {
    "name": "ipython",
    "version": 3
   },
   "file_extension": ".py",
   "mimetype": "text/x-python",
   "name": "python",
   "nbconvert_exporter": "python",
   "pygments_lexer": "ipython3",
   "version": "3.10.6"
  }
 },
 "nbformat": 4,
 "nbformat_minor": 5
}
