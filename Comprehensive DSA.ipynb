{
 "cells": [
  {
   "cell_type": "markdown",
   "id": "3c5ce6fb-6cee-4fb6-b89a-336c090a662d",
   "metadata": {},
   "source": [
    "# 1. Arrays"
   ]
  },
  {
   "cell_type": "markdown",
   "id": "fb8a300f-b006-4940-9a10-926d78805dbb",
   "metadata": {
    "tags": []
   },
   "source": [
    "## [1.1. Arrays - Codebasics](https://www.youtube.com/watch?v=gDqQf4Ekr2A&list=PLeo1K3hjS3uu_n_a__MI_KktGTLYopZ12&index=3)"
   ]
  },
  {
   "cell_type": "markdown",
   "id": "8b4a167b-1c07-49e8-afd9-2da4ac963d86",
   "metadata": {},
   "source": [
    "In Python, integers are stored as 4 bytes (where each byte is 8 bits where 1 bit is a zero or one).\n",
    "\n",
    "<img src=Comp-Images/1.1.1.png width=400 /> <img src=Comp-Images/1.1.2.png width=400 />"
   ]
  },
  {
   "cell_type": "markdown",
   "id": "d4926f5c-b428-4968-adfd-19d35ffc770e",
   "metadata": {},
   "source": [
    "So, to look up an index in an array is just one simple calculation. We take the 0th memory address and add on (index number * size_in_bytes_of(integer)). That's why indexing an array its very fast: O(1).\n",
    "\n",
    "But, looking up is slow (O(n)). That's because we have to iterate through each item in the array, thereby performing n searches."
   ]
  },
  {
   "cell_type": "markdown",
   "id": "218cb6a4-4972-4b54-933c-0d8156e68e35",
   "metadata": {},
   "source": [
    "Python only has dynamic arrays, meaning Python handles memory if the array needs to be bigger dynamically. Languages like Java have static and dynamic types."
   ]
  },
  {
   "cell_type": "markdown",
   "id": "c425ddec-ec09-4037-8722-0e293d6baeca",
   "metadata": {
    "tags": []
   },
   "source": [
    "# 2. Linked Lists"
   ]
  },
  {
   "cell_type": "markdown",
   "id": "e1938f29-a574-45e1-a243-1cd38d4ef480",
   "metadata": {
    "tags": []
   },
   "source": [
    "## [2.1. Linked Lists Code Implementation - Codebasics](https://www.youtube.com/watch?v=qp8u-frRAnU&list=PLeo1K3hjS3uu_n_a__MI_KktGTLYopZ12&index=4)"
   ]
  },
  {
   "cell_type": "markdown",
   "id": "aee79945-8fd0-420e-ba19-e839ef170d36",
   "metadata": {},
   "source": [
    "This is what a linked list with an insertion looks like in memory:\n",
    "\n",
    "<img src=Comp-Images/2.1.1.png width=500 />"
   ]
  },
  {
   "cell_type": "markdown",
   "id": "38e4a5e6-7432-4b34-bda5-7515ffc48668",
   "metadata": {},
   "source": [
    "There's a difference between indexing and inserting: Indexing is finding the place of an element. In this context, if we want to go to the 10th index, it will take time O(n=10). If we wanted to go to the 150th index it will take O(n=100), because we have to go through each link in the list. Therefore the time complexity is O(n). Inserting, however, is the time taken to add the new element and set the pointer at the specified location. This is quick. But because we often are inserting to random locations in an array, we must first index to find that location, which is slow (O(n)), before inserting with speed O(1).\n",
    "\n"
   ]
  },
  {
   "cell_type": "markdown",
   "id": "d6ab249d-b9b1-48fe-9283-0448de5a43c3",
   "metadata": {},
   "source": [
    "This is what a double-linked list looks like. We store the pointer of the element after AND before:\n",
    "\n",
    "<img src=Comp-Images/2.1.2.png width=600 />"
   ]
  },
  {
   "cell_type": "markdown",
   "id": "94f9b54e-8728-49ac-9eff-3b0de9da32d8",
   "metadata": {},
   "source": [
    "Code implementation:"
   ]
  },
  {
   "cell_type": "code",
   "execution_count": 29,
   "id": "2fd37a6d-fbc4-4034-9652-8d4d8407f14b",
   "metadata": {},
   "outputs": [],
   "source": [
    "# This is what we store at a memory address\n",
    "class Node:\n",
    "    def __init__(self, data=None, next=None):\n",
    "        self.data = data\n",
    "        self.next = next\n",
    "\n",
    "    \n",
    "class LinkedList:\n",
    "    def __init__(self):\n",
    "        self.head = None\n",
    "    \n",
    "    \n",
    "    def print(self):\n",
    "        \n",
    "        if self.head is None:\n",
    "            print(\"Linked List is empty\")\n",
    "            return\n",
    "        \n",
    "        itr = self.head\n",
    "        ll_as_str = ''\n",
    "        \n",
    "        while itr:\n",
    "            \n",
    "            # Append 'str(itr.data) --> ' if next element is not None, otherwise, just append 'str(itr.data)'\n",
    "            ll_as_str += str(itr.data) + ' --> ' if itr.next else str(itr.data)\n",
    "            itr = itr.next\n",
    "            \n",
    "        print(ll_as_str)\n",
    "    \n",
    "    \n",
    "    def insert_at_beginning(self, data):\n",
    "        \n",
    "        # If the LL has a head, then create a node and put this head after (next) the node.\n",
    "        node = Node(data, self.head)\n",
    "        self.head = node\n",
    "        \n",
    "    def insert_at_end(self, data):\n",
    "        \n",
    "        if self.head is None:\n",
    "            self.head = Node(data, None)\n",
    "            return\n",
    "        \n",
    "        itr = self.head\n",
    "        \n",
    "        # Exhaust the iterator until we know that itr.next is None.\n",
    "        while itr.next:\n",
    "            itr = itr.next\n",
    "        \n",
    "        itr.next = Node(data, None)\n",
    "        \n",
    "    \n",
    "    def get_length(self):\n",
    "        count = 0\n",
    "        itr = self.head\n",
    "        while itr:\n",
    "            count+=1\n",
    "            itr = itr.next\n",
    "\n",
    "        return count\n",
    "    \n",
    "    \n",
    "    def insert_at(self, index, data):\n",
    "        if index<0 or index>self.get_length():\n",
    "            raise Exception(\"Invalid Index\")\n",
    "\n",
    "        if index==0:\n",
    "            self.insert_at_begining(data)\n",
    "            return\n",
    "\n",
    "        count = 0\n",
    "        itr = self.head\n",
    "        while itr:\n",
    "            \n",
    "            # Once we get to the element before our insertion point..\n",
    "            if count == index - 1: \n",
    "                \n",
    "                # ..we need to create our node and make the next one point to the old itr.next.\n",
    "                node = Node(data, itr.next)\n",
    "                itr.next = node\n",
    "                break\n",
    "\n",
    "            itr = itr.next\n",
    "            count += 1\n",
    "            \n",
    "    \n",
    "    def remove_at(self, index):\n",
    "        if index<0 or index>=self.get_length():\n",
    "            raise Exception(\"Invalid Index\")\n",
    "\n",
    "        if index==0:\n",
    "            self.head = self.head.next\n",
    "            return\n",
    "\n",
    "        count = 0\n",
    "        itr = self.head\n",
    "        while itr:\n",
    "            \n",
    "            # Once we get to the element before our deletion point..\n",
    "            if count == index - 1:\n",
    "                # ..we need it to point to the next next element (because the next element has been deprecated). \n",
    "                itr.next = itr.next.next\n",
    "                break\n",
    "\n",
    "            itr = itr.next\n",
    "            count+=1\n",
    "        \n",
    "        \n",
    "    # Converts any iterable to a linked list.\n",
    "    def insert_values(self, data_list_object):\n",
    "        self.head = None\n",
    "        for data in data_list_object:\n",
    "            self.insert_at_end(data)\n",
    "    \n",
    "    "
   ]
  },
  {
   "cell_type": "code",
   "execution_count": 30,
   "id": "1cd9689a-4245-4d20-9519-e5eb54fea94f",
   "metadata": {},
   "outputs": [
    {
     "name": "stdout",
     "output_type": "stream",
     "text": [
      "3 --> 2 --> 1\n"
     ]
    }
   ],
   "source": [
    "ll = LinkedList()\n",
    "ll.insert_at_beginning(1)\n",
    "ll.insert_at_beginning(2)\n",
    "ll.insert_at_beginning(3)\n",
    "\n",
    "ll.print()"
   ]
  },
  {
   "cell_type": "code",
   "execution_count": 31,
   "id": "8a51ecc7-de3b-4e4e-8043-c31c56bb6428",
   "metadata": {},
   "outputs": [
    {
     "name": "stdout",
     "output_type": "stream",
     "text": [
      "3 --> 2 --> 1 --> 4 --> 5\n"
     ]
    }
   ],
   "source": [
    "ll.insert_at_end(4)\n",
    "ll.insert_at_end(5)\n",
    "\n",
    "ll.print()"
   ]
  },
  {
   "cell_type": "code",
   "execution_count": 32,
   "id": "f3e3ac5e-68fa-49fd-82c4-81b16c542e3a",
   "metadata": {},
   "outputs": [
    {
     "name": "stdout",
     "output_type": "stream",
     "text": [
      "pen --> pineapple --> apple --> pen --> grapes\n"
     ]
    }
   ],
   "source": [
    "ll2 = LinkedList()\n",
    "ll2.insert_values(['pen', 'pineapple', 'apple', 'pen', 'grapes'])\n",
    "ll2.print()"
   ]
  },
  {
   "cell_type": "code",
   "execution_count": 33,
   "id": "210da705-824b-469d-b0b0-09fe97bb17c8",
   "metadata": {},
   "outputs": [
    {
     "name": "stdout",
     "output_type": "stream",
     "text": [
      "pen --> pineapple --> apple --> grapes\n"
     ]
    }
   ],
   "source": [
    "# Remove the 'pen' at index 3.\n",
    "ll2.remove_at(3)\n",
    "ll2.print()"
   ]
  },
  {
   "cell_type": "code",
   "execution_count": 34,
   "id": "0f90e02c-20c8-4af9-972e-86115906412d",
   "metadata": {},
   "outputs": [
    {
     "name": "stdout",
     "output_type": "stream",
     "text": [
      "pen --> pineapple --> banana --> apple --> grapes\n"
     ]
    }
   ],
   "source": [
    "# Add the 'banana' at index 2.\n",
    "ll2.insert_at(2, 'banana')\n",
    "ll2.print()"
   ]
  },
  {
   "cell_type": "markdown",
   "id": "ee6755a3-2bee-486c-bce7-ef6e683d407f",
   "metadata": {
    "tags": []
   },
   "source": [
    "# 3. Hash Tables"
   ]
  },
  {
   "cell_type": "markdown",
   "id": "0020cb6f-7b50-4a6a-ba88-6713b9fea984",
   "metadata": {},
   "source": [
    "## [3.1. Hash Tables Code Implementation - Codebasics](https://www.youtube.com/watch?v=ea8BRGxGmlA&list=PLeo1K3hjS3uu_n_a__MI_KktGTLYopZ12&index=5)"
   ]
  },
  {
   "cell_type": "code",
   "execution_count": 35,
   "id": "a1fd630c-33c9-4bb0-b492-91aa5030196d",
   "metadata": {},
   "outputs": [],
   "source": [
    "class HashTable:  \n",
    "    def __init__(self):\n",
    "        self.MAX = 100\n",
    "        self.arr = [None for i in range(self.MAX)]\n",
    "        \n",
    "    def get_hash(self, key):\n",
    "        hash = 0\n",
    "        for char in key:\n",
    "            hash += ord(char)\n",
    "        return hash % self.MAX\n",
    "    \n",
    "    # this allows for the '[]' syntax. Objects made with this class will produce a return for obj[index].\n",
    "    def __getitem__(self, index):\n",
    "        h = self.get_hash(index)\n",
    "        return self.arr[h]\n",
    "    \n",
    "    # this allows for the '[] = some_value' syntax. Objects made with this class will enable setting a value to obj[index].\n",
    "    def __setitem__(self, key, val):\n",
    "        h = self.get_hash(key)\n",
    "        self.arr[h] = val    \n",
    "        \n",
    "    def __delitem__(self, key):\n",
    "        h = self.get_hash(key)\n",
    "        self.arr[h] = None        "
   ]
  },
  {
   "cell_type": "code",
   "execution_count": 36,
   "id": "a8f8040b-28ee-4ad1-829f-f425483ba2c8",
   "metadata": {},
   "outputs": [],
   "source": [
    "t = HashTable()\n",
    "\n",
    "# This only works because of the dunder method '__setitem__`\n",
    "t[\"march 6\"] = 310 \n",
    "t[\"march 7\"] = 420"
   ]
  },
  {
   "cell_type": "code",
   "execution_count": 37,
   "id": "1be5c432-9bb9-4032-8e27-d05b524d486d",
   "metadata": {},
   "outputs": [
    {
     "data": {
      "text/plain": [
       "310"
      ]
     },
     "execution_count": 37,
     "metadata": {},
     "output_type": "execute_result"
    }
   ],
   "source": [
    "# This only works because of the dunder method '__getitem__' \n",
    "t[\"march 6\"] "
   ]
  },
  {
   "cell_type": "markdown",
   "id": "432af6c4-2ed9-4bf9-b007-a6a66a810c30",
   "metadata": {
    "tags": []
   },
   "source": [
    "## [3.2. Collision Handling Code Implementation - Codebasics](https://www.youtube.com/watch?v=54iv1si4YCM&list=PLeo1K3hjS3uu_n_a__MI_KktGTLYopZ12&index=6)"
   ]
  },
  {
   "cell_type": "markdown",
   "id": "35f76d64-ea2d-4610-b43d-dbbb4b99a239",
   "metadata": {},
   "source": [
    "We need to modify our HashTable class:\n",
    "- We need to have an empty array for each empty spot in our larger array. Strictly, it should be a linked list but we don't have that in Python.\n",
    "- We need to store the key and value, as opposed to just the value, in the sub-array because, in case of collision, we'll need to manually search for the key within the sub array.\n",
    "- We need to modify '__setitem__'."
   ]
  },
  {
   "cell_type": "code",
   "execution_count": 38,
   "id": "f7a0e6f6-ba32-4368-b73e-b156cbee2a44",
   "metadata": {},
   "outputs": [],
   "source": [
    "class HashTable2:  \n",
    "    def __init__(self):\n",
    "        self.MAX = 10\n",
    "        self.arr = [[] for i in range(self.MAX)]\n",
    "        \n",
    "    def get_hash(self, key):\n",
    "        hash = 0\n",
    "        for char in key:\n",
    "            hash += ord(char)\n",
    "        return hash % self.MAX\n",
    "    \n",
    "    def __getitem__(self, key):\n",
    "        arr_index = self.get_hash(key)\n",
    "        for kv in self.arr[arr_index]:\n",
    "            if kv[0] == key:\n",
    "                return kv[1]\n",
    "            \n",
    "    def __setitem__(self, key, val):\n",
    "        h = self.get_hash(key)\n",
    "        found = False\n",
    "        \n",
    "        # We are looking in the 'linked list' (self.arr[h]) to see if it already exists\n",
    "        for idx, element in enumerate(self.arr[h]):\n",
    "            if len(element)==2 and element[0] == key:\n",
    "                \n",
    "                # If exists, we create a new tuple with the key and value.\n",
    "                self.arr[h][idx] = (key,val)\n",
    "                found = True\n",
    "        \n",
    "        # Otherwise, we append a new tuple to our 'linked list'.\n",
    "        if not found:\n",
    "            self.arr[h].append((key,val))\n",
    "        \n",
    "    def __delitem__(self, key):\n",
    "        arr_index = self.get_hash(key)\n",
    "        for index, kv in enumerate(self.arr[arr_index]):\n",
    "            if kv[0] == key:\n",
    "                print(\"del\",index)\n",
    "                del self.arr[arr_index][index]"
   ]
  },
  {
   "cell_type": "markdown",
   "id": "1e20745d-3fca-4a27-a29d-f7e7672810b3",
   "metadata": {},
   "source": [
    "'march 6' and 'march 17' produce the same hash (because they have the same ord total), therefore we expect to see a 'linked list' with both of them."
   ]
  },
  {
   "cell_type": "code",
   "execution_count": 39,
   "id": "aa9bdfa0-5350-4317-8a08-df39780e74a8",
   "metadata": {},
   "outputs": [
    {
     "data": {
      "text/plain": [
       "[[],\n",
       " [('march 8', 50)],\n",
       " [],\n",
       " [],\n",
       " [],\n",
       " [],\n",
       " [],\n",
       " [],\n",
       " [],\n",
       " [('march 6', 120), ('march 17', 459)]]"
      ]
     },
     "execution_count": 39,
     "metadata": {},
     "output_type": "execute_result"
    }
   ],
   "source": [
    "t2 = HashTable2()\n",
    "\n",
    "t2['march 6'] = 120\n",
    "t2['march 8'] = 50 # No clash with this one.\n",
    "t2['march 17'] = 459\n",
    "\n",
    "t2.arr"
   ]
  },
  {
   "cell_type": "markdown",
   "id": "b9e7282e-9e2e-4d2b-9f34-731d9cfc5cde",
   "metadata": {
    "tags": []
   },
   "source": [
    "# 4. Stacks"
   ]
  },
  {
   "cell_type": "markdown",
   "id": "af16a25d-3cda-42e0-a441-fdef03a756b5",
   "metadata": {
    "tags": []
   },
   "source": [
    "## [4.1. Stacks basics - Codebasics](https://www.youtube.com/watch?v=zwb3GmNAtFk&list=PLeo1K3hjS3uu_n_a__MI_KktGTLYopZ12&index=7)"
   ]
  },
  {
   "cell_type": "markdown",
   "id": "c4eaf5fc-b39a-46df-a989-0de5364ce1f4",
   "metadata": {},
   "source": [
    "If you're going through a number of webpages and you want to go back a few pages, how does the web browser know the order? We could use an array or linked list, but arrays have an issue if youre browsing through many websites and linkedlists are slow because, if you want to go to the last website you visited, you have to traverse the entire linked list with time O(n).\n",
    "\n",
    "Stacks are used for any 'ctrl + z' functionality e.g. in word."
   ]
  },
  {
   "cell_type": "markdown",
   "id": "bd7b033f-aff0-4538-8909-03efe5e3d5fe",
   "metadata": {},
   "source": [
    "<img src=Comp-Images/4.1.1.png width=600 />"
   ]
  },
  {
   "cell_type": "markdown",
   "id": "e5baf500-01a8-4b9d-a707-9bbff025c3c8",
   "metadata": {},
   "source": [
    "The solution is a stack:"
   ]
  },
  {
   "cell_type": "markdown",
   "id": "70c524ec-9508-48a3-925a-5a74879414ba",
   "metadata": {},
   "source": [
    "<img src=Comp-Images/4.1.2.png width=600 />"
   ]
  },
  {
   "cell_type": "markdown",
   "id": "bfcfdf15-08a5-426f-a042-73503ae9e8c6",
   "metadata": {},
   "source": [
    "Time complexity:\n",
    "\n",
    "- Push/Pop element -> O(1)\n",
    "- Search element by value -> O(n)"
   ]
  },
  {
   "cell_type": "markdown",
   "id": "c36455bb-8420-4017-9ab3-12115d7d5f22",
   "metadata": {},
   "source": [
    "Stacks are implemented in Python using:\n",
    "- lists \n",
    "- collections.deque (implemented using a doubly linked list) -> `stack = deque()` followed by `stack.append(5)`, `stack.pop()` etc.\n",
    "- queue.LifoQueue "
   ]
  },
  {
   "cell_type": "markdown",
   "id": "f8067497-934c-49e1-9bf0-4430703511be",
   "metadata": {
    "tags": []
   },
   "source": [
    "# 5. Queues"
   ]
  },
  {
   "cell_type": "markdown",
   "id": "41b5e102-9cba-4020-b6df-eaad5eef3f53",
   "metadata": {
    "tags": []
   },
   "source": [
    "## [5.1. Queues Basics - Codebasics](https://www.youtube.com/watch?v=rUUrmGKYwHw&list=PLeo1K3hjS3uu_n_a__MI_KktGTLYopZ12&index=8)"
   ]
  },
  {
   "cell_type": "markdown",
   "id": "25798b73-5d16-43fe-9f9b-99bbab3f1323",
   "metadata": {},
   "source": [
    "Say you're a developer for the New York Stock Exchange (NYSE) and a bunch of companies want financial data, so you make synchronous post calls to all these companies:\n",
    "\n",
    "<img src=Comp-Images/5.1.1.png width=700 />"
   ]
  },
  {
   "cell_type": "markdown",
   "id": "5bd7d0e0-ff47-4623-a798-6ecd6c6592cd",
   "metadata": {},
   "source": [
    "This is called a **tightly coupled architecture**. Whenever another company wants the financial info, there have to be code changes to ensure that the right website gets the right information. So, 'finance.google.com' have to be added to the list of post calls. Another issue is if yahoo's HTTP server goes down for 5 mins, they will lose out on all that data because NYSE is making synchronous posts.\n",
    "\n",
    "What if instead NYSE pushed the data into a memory buffer. This is a **loosely coupled architecture** (aka producer-consumer problem):\n",
    "\n",
    "<img src=Comp-Images/5.1.2.png width=700 />\n",
    "\n",
    "The data structure is **FIFO**."
   ]
  },
  {
   "cell_type": "markdown",
   "id": "0ab3ec8e-0d73-4ee7-a7d0-bff4d9931124",
   "metadata": {},
   "source": [
    "Python implementations:\n",
    "- lists\n",
    "- collections.deque (implemented using a doubly linked list) -> `q = deque()` followed by `q.append(5)`, `q.popleft()` etc.\n",
    "- queue.Queue"
   ]
  },
  {
   "cell_type": "markdown",
   "id": "af2f6852-48a3-4aaa-b33c-095cb2a39f82",
   "metadata": {},
   "source": [
    "# 6. Heaps"
   ]
  },
  {
   "cell_type": "markdown",
   "id": "05e88fe6-4d20-4bb4-8730-152c35f49d78",
   "metadata": {
    "tags": []
   },
   "source": [
    "# 7. Trees"
   ]
  },
  {
   "cell_type": "markdown",
   "id": "136a80f3-cf31-410d-8380-7e9da172575c",
   "metadata": {},
   "source": [
    "## [7.1. General Trees Code Implementation - Codebasics](https://www.youtube.com/watch?v=4r_XR9fUPhQ&list=PLeo1K3hjS3uu_n_a__MI_KktGTLYopZ12&index=9)"
   ]
  },
  {
   "cell_type": "markdown",
   "id": "394534d2-dd8b-456b-8d37-38d8d671abfe",
   "metadata": {},
   "source": [
    "These are useful for information that has a natural hierarchical structure. \n",
    "- The root of the tree is called the **root node**. \n",
    "- Other elements are known as **nodes**. \n",
    "- The elements that have no children are called **leaf nodes**.\n",
    "- Nodes have parents, children and ancestors.\n",
    "- The tree structure can be referred to by levels where level 0 is the root node, level 1 are its children etc."
   ]
  },
  {
   "cell_type": "code",
   "execution_count": 40,
   "id": "30c27466-0b41-4783-9af1-6047e966cc58",
   "metadata": {},
   "outputs": [],
   "source": [
    "class TreeNode:\n",
    "    def __init__(self, data):\n",
    "        self.data = data\n",
    "        self.children = []\n",
    "        self.parent = None\n",
    "\n",
    "    def get_level(self):\n",
    "        level = 0\n",
    "        p = self.parent\n",
    "        while p:\n",
    "            level += 1\n",
    "            p = p.parent\n",
    "\n",
    "        return level\n",
    "\n",
    "    def print_tree(self):\n",
    "        spaces = ' ' * self.get_level() * 3\n",
    "        prefix = spaces + \"|__\" if self.parent else \"\"\n",
    "        print(prefix + self.data)\n",
    "        if self.children:\n",
    "            for child in self.children:\n",
    "                child.print_tree()\n",
    "\n",
    "    def add_child(self, child):\n",
    "        child.parent = self\n",
    "        self.children.append(child)\n",
    "        \n",
    "        \n",
    "def build_product_tree():\n",
    "    root = TreeNode(\"Electronics\")\n",
    "\n",
    "    laptop = TreeNode(\"Laptop\")\n",
    "    laptop.add_child(TreeNode(\"Mac\"))\n",
    "    laptop.add_child(TreeNode(\"Surface\"))\n",
    "    laptop.add_child(TreeNode(\"Thinkpad\"))\n",
    "\n",
    "    cellphone = TreeNode(\"Cell Phone\")\n",
    "    cellphone.add_child(TreeNode(\"iPhone\"))\n",
    "    cellphone.add_child(TreeNode(\"Google Pixel\"))\n",
    "    cellphone.add_child(TreeNode(\"Vivo\"))\n",
    "\n",
    "    tv = TreeNode(\"TV\")\n",
    "    tv.add_child(TreeNode(\"Samsung\"))\n",
    "    tv.add_child(TreeNode(\"LG\"))\n",
    "\n",
    "    root.add_child(laptop)\n",
    "    root.add_child(cellphone)\n",
    "    root.add_child(tv)\n",
    "\n",
    "    root.print_tree()"
   ]
  },
  {
   "cell_type": "code",
   "execution_count": 41,
   "id": "c66b51da-36fe-4c46-81d0-aaac101c5bdc",
   "metadata": {},
   "outputs": [
    {
     "name": "stdout",
     "output_type": "stream",
     "text": [
      "Electronics\n",
      "   |__Laptop\n",
      "      |__Mac\n",
      "      |__Surface\n",
      "      |__Thinkpad\n",
      "   |__Cell Phone\n",
      "      |__iPhone\n",
      "      |__Google Pixel\n",
      "      |__Vivo\n",
      "   |__TV\n",
      "      |__Samsung\n",
      "      |__LG\n"
     ]
    }
   ],
   "source": [
    "build_product_tree()"
   ]
  },
  {
   "cell_type": "markdown",
   "id": "ddd589b3-c312-447f-91a4-19010999a54f",
   "metadata": {},
   "source": [
    "# 8. Graphs"
   ]
  }
 ],
 "metadata": {
  "kernelspec": {
   "display_name": "Python 3 (ipykernel)",
   "language": "python",
   "name": "python3"
  },
  "language_info": {
   "codemirror_mode": {
    "name": "ipython",
    "version": 3
   },
   "file_extension": ".py",
   "mimetype": "text/x-python",
   "name": "python",
   "nbconvert_exporter": "python",
   "pygments_lexer": "ipython3",
   "version": "3.10.6"
  }
 },
 "nbformat": 4,
 "nbformat_minor": 5
}
