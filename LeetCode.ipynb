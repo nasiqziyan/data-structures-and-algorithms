{
 "cells": [
  {
   "cell_type": "markdown",
   "id": "23227c83-caa5-482f-83d7-922692ef28d5",
   "metadata": {
    "tags": []
   },
   "source": [
    "# 1. Two Sum"
   ]
  },
  {
   "cell_type": "markdown",
   "id": "a7f03226-c3f8-4d6e-89a8-7d702499ff99",
   "metadata": {},
   "source": [
    "## One-pass Hash Table"
   ]
  },
  {
   "cell_type": "code",
   "execution_count": 6,
   "id": "08a1a31d-593f-4e6f-aa74-a7cc370fdec1",
   "metadata": {},
   "outputs": [
    {
     "name": "stdout",
     "output_type": "stream",
     "text": [
      "{11: 0, 2: 1, 15: 2}\n"
     ]
    },
    {
     "data": {
      "text/plain": [
       "[3, 1]"
      ]
     },
     "execution_count": 6,
     "metadata": {},
     "output_type": "execute_result"
    }
   ],
   "source": [
    "def twoSum(nums: list[int], target: int) -> list[int]:\n",
    "    hashmap = {}\n",
    "    for i in range(len(nums)):\n",
    "        complement = target - nums[i]\n",
    "        if complement in hashmap:\n",
    "            print(hashmap)\n",
    "            return [i, hashmap[complement]]\n",
    "        hashmap[nums[i]] = i\n",
    "\n",
    "        \n",
    "twoSum([11, 2, 15, 7], 9)"
   ]
  },
  {
   "cell_type": "markdown",
   "id": "0d0e92a7-493c-4859-bef6-ec9355c425ca",
   "metadata": {},
   "source": [
    "Firstly, sorting lists is rarely a good idea if the solution asks for the index. This solution relies on using the 'complement' (`target - nums[i]`); while iterating through our nums and inserting elements with their index into a hashtable, we make a check to see if the current element's complement already exists in the hash table.\n",
    "\n",
    "Let's say we're at the element `2` and we determine the complement as 9 - 2 = 7. If we look through all the elements that we've iterated over and find a value equal to this complement, we're done. Since `7` isn't in the dictionary, we can store `2` with its index in the hopes of finding a number whose complement is `2`, i.e., 9 - 7 = 2.\n",
    "\n",
    "Of course, once we reach 7 and find its complement as 9 - 7 = 2, it means we want the index corresponding to 7 (current loop's index) and the index corresponding to 2 (dictionary lookup)."
   ]
  },
  {
   "cell_type": "markdown",
   "id": "8691c7db-6cb3-486e-abda-034848e1e51e",
   "metadata": {
    "tags": []
   },
   "source": [
    "# 9. Palindrome Number"
   ]
  },
  {
   "cell_type": "markdown",
   "id": "5c4313d1-a2aa-4c69-9da1-d0349fb600a7",
   "metadata": {},
   "source": [
    "## Converting to an iterable (string): 89.20% faster"
   ]
  },
  {
   "cell_type": "code",
   "execution_count": 11,
   "id": "c25483fb-7c08-440a-aa52-9d4f5ea4f8ad",
   "metadata": {},
   "outputs": [],
   "source": [
    "def isPalindrome(self, x: int) -> bool:\n",
    "    if x < 0:\n",
    "        return False\n",
    "\n",
    "    return str(x) == str(x)[::-1]"
   ]
  },
  {
   "cell_type": "markdown",
   "id": "537d5ea4-86de-4e3b-a84c-3e4f8ab313af",
   "metadata": {},
   "source": [
    "## Letting it remain as integer: 99.14% faster."
   ]
  },
  {
   "cell_type": "code",
   "execution_count": 12,
   "id": "f3c46085-9725-4481-a46e-e3c77a5d8066",
   "metadata": {},
   "outputs": [
    {
     "data": {
      "text/plain": [
       "True"
      ]
     },
     "execution_count": 12,
     "metadata": {},
     "output_type": "execute_result"
    }
   ],
   "source": [
    "def isPalindrome(x: int) -> bool:\n",
    "    \n",
    "    # if x is negative, return False. if x is positive and last digit is 0, that also cannot form a palindrome, return False.\n",
    "    if x < 0 or (x > 0 and x%10 == 0):   \n",
    "        return False\n",
    "\n",
    "    reverse_x = 0\n",
    "    while x > reverse_x:\n",
    "        reverse_x = (x % 10) + (reverse_x * 10) \n",
    "        x = x // 10\n",
    "        \n",
    "    return True if (x == reverse_x or x == reverse_x // 10) else False\n",
    "\n",
    "isPalindrome(15951)"
   ]
  },
  {
   "cell_type": "markdown",
   "id": "55e8428b-67c2-481f-9f5d-ad33b7187158",
   "metadata": {},
   "source": [
    "The first thing to note is that `num // 10` is the easiest way to return all but the last digit of num.\n",
    "Second thing to note is that `num % 10` is the easiest way to return the last digit of num\n",
    "\n",
    "Steps:\n",
    "- If `15951` is negative or ending in 0, it cannot be a palindrome. Since it's neither, it can be.\n",
    "\n",
    "- We want to reverse the first half integers of `x`. If `x` has an even integer length, then `x` and `reverse_x` will have the exactly the same length e.g. 159 and reversed_first_half(159951) = 159. It's then very easy to check if palindrome; simply do `x == reverse_x`.\n",
    "\n",
    "- If it's odd, then we want to build up `reverse_x` and cut down `x`. For reverse_x, get the last digit of x (`(x % 10)`) and then add it to `reverse_x` = 0. For `x`, return all but the last digit (`x // 10`).\n",
    "    - `x = 15951    rev_x = 0`\n",
    "    - `x = 1595    rev_x = 1`\n",
    "    - `x = 159    rev_x = 15`\n",
    "    - `x = 15    rev_x = 159`\n",
    "  \n",
    "- Once we reach the last line, we just check if `x` is equal to all digits of `reverse_x` excluding the last (using reverse_x // 10), because it doesn't matter what the middle number 9 is."
   ]
  },
  {
   "cell_type": "markdown",
   "id": "3f08864b-69a9-4807-88c3-1a011f4a29ed",
   "metadata": {
    "tags": []
   },
   "source": [
    "# 13. Roman To Integer"
   ]
  },
  {
   "cell_type": "markdown",
   "id": "77918074-90e0-4ac3-8f6a-b3dcc9cf6644",
   "metadata": {},
   "source": [
    "## One pass without brute force or replacing: 96.9% faster."
   ]
  },
  {
   "cell_type": "code",
   "execution_count": 3,
   "id": "3ea1ba80-ed8f-4084-9682-8e49150c921a",
   "metadata": {},
   "outputs": [
    {
     "data": {
      "text/plain": [
       "998"
      ]
     },
     "execution_count": 3,
     "metadata": {},
     "output_type": "execute_result"
    }
   ],
   "source": [
    "def romanToInt(s: str) -> int:\n",
    "        roman = {'I': 1, 'V': 5, 'X': 10, 'L': 50, 'C':100, 'D': 500, 'M':1000}\n",
    "        \n",
    "        # s = 'CMXCVIII' -100 +1000 -10 +100 +5 +1 +1 +1 -> 998\n",
    "\n",
    "        # s = \"MCMXCIV\": +1000 -100 +1000 -10 +100 -1 +5\n",
    "\n",
    "        total = 0\n",
    "\n",
    "        for i in range(len(s)):\n",
    "            \n",
    "            if i+1 < len(s) and roman[s[i]] < roman[s[i+1]]:\n",
    "                total -= roman[s[i]]\n",
    "            \n",
    "            else: \n",
    "                total += roman[s[i]]\n",
    "            \n",
    "        return total\n",
    "    \n",
    "romanToInt('CMXCVIII')"
   ]
  },
  {
   "cell_type": "markdown",
   "id": "f50dc4d7-496c-4a2f-a4a2-ac92ee765639",
   "metadata": {},
   "source": [
    "We only apply expressions with the current element in the string. So, although we may consider the next letter, we don't get ahead of ourselves by trying to skip an iteration in the loop or anything.\n",
    "\n",
    "Simply put, we go left -> right and if the next number is bigger then our current number is made negative and added to the total. For example, if we're doing 'CM', since 'C' is smaller than 'M', 'C' is made negative -> -100. Then, when we get to 'M', since M is biggewr than its following letter, it remains positive -> 1000.\n",
    "\n",
    "Both of these are added to the total: total = -100 + 1000 = 900."
   ]
  },
  {
   "cell_type": "markdown",
   "id": "92f587cb-ec27-40f7-a151-3700c9fbf155",
   "metadata": {},
   "source": [
    "## Replacing letters to remove the nuances of the roman numeral system: 99.8% faster"
   ]
  },
  {
   "cell_type": "code",
   "execution_count": 4,
   "id": "9bd7f321-bc36-4827-9a92-f9301db09daa",
   "metadata": {},
   "outputs": [
    {
     "data": {
      "text/plain": [
       "998"
      ]
     },
     "execution_count": 4,
     "metadata": {},
     "output_type": "execute_result"
    }
   ],
   "source": [
    "def romanToInt(s: str) -> int:\n",
    "        translations = {\n",
    "            \"I\": 1,\n",
    "            \"V\": 5,\n",
    "            \"X\": 10,\n",
    "            \"L\": 50,\n",
    "            \"C\": 100,\n",
    "            \"D\": 500,\n",
    "            \"M\": 1000\n",
    "        }\n",
    "        number = 0\n",
    "        s = s.replace(\"IV\", \"IIII\").replace(\"IX\", \"VIIII\")\n",
    "        s = s.replace(\"XL\", \"XXXX\").replace(\"XC\", \"LXXXX\")\n",
    "        s = s.replace(\"CD\", \"CCCC\").replace(\"CM\", \"DCCCC\")\n",
    "        for char in s:\n",
    "            number += translations[char]\n",
    "        return number\n",
    "    \n",
    "romanToInt('CMXCVIII')"
   ]
  },
  {
   "cell_type": "markdown",
   "id": "b183a09a-c8dd-45af-b36b-d450cdef0300",
   "metadata": {},
   "source": [
    "# 14. Longest Common Prefix"
   ]
  },
  {
   "cell_type": "markdown",
   "id": "0eb58cd7-dc94-4442-994b-ba360b258987",
   "metadata": {},
   "source": [
    "## My way: 93.3% faster"
   ]
  },
  {
   "cell_type": "markdown",
   "id": "5b871a22-53f4-42ae-a630-67d14355fe06",
   "metadata": {},
   "source": [
    "If we take the shortest word and it is equal to the prefix of all other words, where the prefix has length = shortest word, then the shortest word is the longest common prefix.\n",
    "\n",
    "If not, then iterate through the words until you find the word who's not equal to the shortest word and reduce the shortest word's length until they're both equal."
   ]
  },
  {
   "cell_type": "code",
   "execution_count": 4,
   "id": "bbafc07a-44c0-4da5-bd43-50ffec32a10d",
   "metadata": {},
   "outputs": [
    {
     "data": {
      "text/plain": [
       "'fl'"
      ]
     },
     "execution_count": 4,
     "metadata": {},
     "output_type": "execute_result"
    }
   ],
   "source": [
    "from functools import reduce\n",
    "\n",
    "def longestCommonPrefix(strs: list[str]) -> str:\n",
    "    \n",
    "        shortest = reduce(lambda x, y: x if len(x) < len(y) else y, strs)\n",
    "        length = len(shortest)\n",
    "        \n",
    "        for word in strs:\n",
    "            if word[:length] != shortest:\n",
    "                while shortest != word[:length]:\n",
    "                    shortest = shortest[:-1]\n",
    "                    length -= 1\n",
    "    \n",
    "        return shortest\n",
    "\n",
    "    \n",
    "longestCommonPrefix(['flower', 'flood', 'flew', 'fly', 'flounder'])             "
   ]
  },
  {
   "cell_type": "markdown",
   "id": "d1897ad0-16b2-4f2c-b577-91d7337f057f",
   "metadata": {},
   "source": [
    "## Short min/max solution: 88.3% faster"
   ]
  },
  {
   "cell_type": "code",
   "execution_count": 7,
   "id": "597f7ff3-4201-4cd3-8ef8-6e4a7d90ed85",
   "metadata": {},
   "outputs": [
    {
     "name": "stdout",
     "output_type": "stream",
     "text": [
      "flew fly\n"
     ]
    },
    {
     "data": {
      "text/plain": [
       "'fl'"
      ]
     },
     "execution_count": 7,
     "metadata": {},
     "output_type": "execute_result"
    }
   ],
   "source": [
    "def longestCommonPrefix(strs):\n",
    "        if not strs: return ''\n",
    "        \n",
    "        # Find the string which appears first and last by alphabetical order, not length.\n",
    "        # So, 'flew' comes first because all words are identical up to 'fl' and 'e' is alphebetically earliest.\n",
    "        # 'fly' is last because 'y' comes after o and e. \n",
    "        s1 = min(strs)\n",
    "        s2 = max(strs)\n",
    "        print(s1, s2)\n",
    "\n",
    "        for i, c in enumerate(s1):\n",
    "            if c != s2[i]:\n",
    "                return s1[:i] #stop until hit the split index\n",
    "        return s1\n",
    "    \n",
    "longestCommonPrefix(['flower', 'flood', 'flew', 'fly', 'flounder'])              "
   ]
  },
  {
   "cell_type": "markdown",
   "id": "5c82db0b-6ce8-4d8e-af76-9bd88d0d4931",
   "metadata": {},
   "source": [
    "## Take letters of the first and last word (based on length) in the array, pairwise: Unknown"
   ]
  },
  {
   "cell_type": "code",
   "execution_count": 12,
   "id": "9662abf5-32f2-4ec1-873c-6292eee3f6bf",
   "metadata": {},
   "outputs": [
    {
     "name": "stdout",
     "output_type": "stream",
     "text": [
      "f f\n",
      "l l\n",
      "o y\n"
     ]
    },
    {
     "data": {
      "text/plain": [
       "'fl'"
      ]
     },
     "execution_count": 12,
     "metadata": {},
     "output_type": "execute_result"
    }
   ],
   "source": [
    "def longestCommonPrefix(strs):\n",
    "\n",
    "    prefix = ''\n",
    "\n",
    "    s1 = max(strs, key=len)\n",
    "    s2 = min(strs, key=len)\n",
    "\n",
    "    for i, o in zip(s1, s2): # zip of 'fly' and 'flounder' is a zip obj that looks like: [(f,f),\n",
    "                             #                                                            (l,l), \n",
    "                             #                                                            (y,o)]\n",
    "                             # the zip terminates when the shortest iterable has been exhausted.\n",
    "        print(i, o)\n",
    "\n",
    "        if i == o:\n",
    "            prefix += i\n",
    "        else:\n",
    "            break\n",
    "            \n",
    "    return prefix\n",
    "    \n",
    "longestCommonPrefix(['flower', 'flood', 'flew', 'fly', 'flounder'])                  "
   ]
  },
  {
   "cell_type": "markdown",
   "id": "e3612824-7b23-44cb-bf3d-8fdbf79a1f82",
   "metadata": {},
   "source": [
    "# 20. Valid Parentheses"
   ]
  },
  {
   "cell_type": "markdown",
   "id": "cc0d4a12-6f1b-4dc7-8c7a-077d288f77a1",
   "metadata": {},
   "source": [
    "## Stack Data Structure"
   ]
  },
  {
   "cell_type": "code",
   "execution_count": 14,
   "id": "cda4d4fe-5964-4811-9ca3-bd4f46480061",
   "metadata": {},
   "outputs": [
    {
     "name": "stdout",
     "output_type": "stream",
     "text": [
      "True\n",
      "False\n"
     ]
    }
   ],
   "source": [
    "def isValid(s):\n",
    "    \n",
    "    if len(s) % 2 == 1: return False # clearly if there's an odd number of brackets, it's False.\n",
    "\n",
    "    d = {'(':')', '{':'}','[':']'}\n",
    "    stack = []\n",
    "    \n",
    "    for i in s:\n",
    "        if i in d:  # 1\n",
    "            stack.append(i)\n",
    "        elif len(stack) == 0 or d[stack.pop()] != i:  # 2\n",
    "            return False\n",
    "    return len(stack) == 0 # 3\n",
    "\n",
    "print(isValid('([{}][{}])'))\n",
    "print(isValid('([{}'))"
   ]
  },
  {
   "cell_type": "markdown",
   "id": "7e923101-4f1e-4917-bcb6-c6e1ea24a7ca",
   "metadata": {},
   "source": [
    "We build up a stack of left-type brackets. Once we find a right-type bracket, we pop of the most recently added item (top of stack) and see if the two match. If they match, that's good - we can continue with the `for` loop. If they don't, we immediately return False. Something like `{[]([}` can never be valid because a closing bracket must always follow an open bracket with the stack structure. Here's the stack evolution for `{[]([}`:\n",
    "\n",
    "```\n",
    "1. {\n",
    "2. {[\n",
    "3. {   ; the [ matches ] so we pop [.\n",
    "4. {(\n",
    "5. {(  ; the final } does not match the most recent (, therefore, return False.\n",
    "```\n",
    "\n",
    "- If it's the left bracket then we append it to the stack.\n",
    "- Else if it's the right bracket and the stack is empty (meaning all matching left brackets have been closed), or the left bracket doesn't match, return False\n",
    "- Finally check if the stack still contains unmatched left bracket. If so, it's False"
   ]
  },
  {
   "cell_type": "markdown",
   "id": "635e5dab-31c0-44b8-a10b-e6039a1b9441",
   "metadata": {},
   "source": [
    "# 21. Merge Two Sorted Lists"
   ]
  },
  {
   "cell_type": "markdown",
   "id": "f31e2811-401d-4ffc-906a-7452ea4c219f",
   "metadata": {},
   "source": [
    "## Two pointers, One static at the head and one that traverses and updates: beats 90.56%"
   ]
  },
  {
   "cell_type": "code",
   "execution_count": 10,
   "id": "3f63975f-46e0-4397-8d36-8bd1a91fc5cc",
   "metadata": {},
   "outputs": [],
   "source": [
    "# Definition for singly-linked list.\n",
    "class ListNode:\n",
    "    def __init__(self, val=0, next=None):\n",
    "        self.val = val\n",
    "        self.next = next\n",
    "        \n",
    "        \n",
    "class Solution:\n",
    "    def mergeTwoLists(self, list1, list2):\n",
    "        tail = dummy = ListNode()\n",
    "        while list1 and list2:   \n",
    "            \n",
    "            if list1.val < list2.val:\n",
    "                tail.next = list1\n",
    "                print(f'IF1: tail.next.val is {tail.next.val}')\n",
    "                list1, tail = list1.next, list1\n",
    "                \n",
    "                # try:\n",
    "                #     print(f\"IF2: tail.val is {tail.val} and tail.next.val is {tail.next.val}\")\n",
    "                # except:\n",
    "                #     print('reached the last loop of IF')\n",
    "            else:\n",
    "                tail.next = list2\n",
    "                print(f'ELSE1: tail.next.val is {tail.next.val}')\n",
    "                list2, tail = list2.next, list2\n",
    "                # try: \n",
    "                #     print(f\"ELSE2: tail.val is {tail.val} and tail.next.val is {tail.next.val}\")\n",
    "                # except:\n",
    "                #     print('reached the last loop of ELSE')\n",
    "                \n",
    "        if list1 or list2:\n",
    "            tail.next = list1 if list1 else list2\n",
    "            \n",
    "        return dummy.next"
   ]
  },
  {
   "cell_type": "code",
   "execution_count": 11,
   "id": "5f9e973a-2b02-4751-bf39-6a740166c7e7",
   "metadata": {},
   "outputs": [],
   "source": [
    "l1 = ListNode(1, next=ListNode(2, next=ListNode(4, next=None)))\n",
    "l2 = ListNode(1, next=ListNode(3, next=ListNode(4, next=None)))"
   ]
  },
  {
   "cell_type": "code",
   "execution_count": 12,
   "id": "3bf476b7-2029-4500-8382-0cd11fbb6a40",
   "metadata": {},
   "outputs": [
    {
     "name": "stdout",
     "output_type": "stream",
     "text": [
      "ELSE1: tail.next.val is 1\n",
      "IF1: tail.next.val is 1\n",
      "IF1: tail.next.val is 2\n",
      "ELSE1: tail.next.val is 3\n",
      "ELSE1: tail.next.val is 4\n"
     ]
    },
    {
     "data": {
      "text/plain": [
       "<__main__.ListNode at 0x7fab507dbc40>"
      ]
     },
     "execution_count": 12,
     "metadata": {},
     "output_type": "execute_result"
    }
   ],
   "source": [
    "solution = Solution()\n",
    "solution.mergeTwoLists(l1, l2)"
   ]
  },
  {
   "cell_type": "markdown",
   "id": "6f8cb8e0-ca87-415f-a381-996e50f93c0a",
   "metadata": {},
   "source": [
    "**Explanation:**\n",
    "\n",
    "The key thing to understand is that `dummy` always remains at the head of our new linked list while `tail` is always somewhere within the same linked list.\n",
    "\n",
    "The evolution of `dummy` throughout the iterations looks something like this:\n",
    "\n",
    "```\n",
    "dummy = 0 -> None                                        l1 = (1 -> 2 -> 4)          l2 = (1 -> 3 -> 4)\n",
    "dummy = 0 -> [1 -> 3 -> 4]                               l1 = (1 -> 2 -> 4)          l2 = (3 -> 4)          \n",
    "dummy = 0 -> 1 -> [1 -> 2 -> 4]                          l1 = (2 -> 4)               l2 = (3 -> 4)\n",
    "dummy = 0 -> 1 -> 1 -> [2 -> 4]                          l1 = (4)                    l2 = (3 -> 4)\n",
    "dummy = 0 -> 1 -> 1 -> 2 -> [3 -> 4]                     l1 = (4)                    l2 = (4)\n",
    "dummy = 0 -> 1 -> 1 -> 2 -> 3 -> [4]                     l1 = (4)                    l2 = None\n",
    "dummy = 0 -> 1 -> 1 -> 2 -> 3 -> 4 -> [4]                l1 = None                   l2 = None\n",
    "\n",
    "```"
   ]
  },
  {
   "cell_type": "markdown",
   "id": "70fbf656-c8ea-400c-bc6c-324b8fb27c41",
   "metadata": {},
   "source": [
    "<img src=LeetCode-Images/21.1.png width=900 />\n",
    "<img src=LeetCode-Images/21.2.png width=900 />\n",
    "<img src=LeetCode-Images/21.3.png width=900 />\n",
    "<img src=LeetCode-Images/21.4.png width=450 />"
   ]
  }
 ],
 "metadata": {
  "kernelspec": {
   "display_name": "Python 3 (ipykernel)",
   "language": "python",
   "name": "python3"
  },
  "language_info": {
   "codemirror_mode": {
    "name": "ipython",
    "version": 3
   },
   "file_extension": ".py",
   "mimetype": "text/x-python",
   "name": "python",
   "nbconvert_exporter": "python",
   "pygments_lexer": "ipython3",
   "version": "3.10.6"
  }
 },
 "nbformat": 4,
 "nbformat_minor": 5
}
