{
 "cells": [
  {
   "cell_type": "markdown",
   "id": "23227c83-caa5-482f-83d7-922692ef28d5",
   "metadata": {
    "tags": []
   },
   "source": [
    "# 1. Two Sum"
   ]
  },
  {
   "cell_type": "markdown",
   "id": "a7f03226-c3f8-4d6e-89a8-7d702499ff99",
   "metadata": {},
   "source": [
    "## One-pass Hash Table"
   ]
  },
  {
   "cell_type": "code",
   "execution_count": 6,
   "id": "08a1a31d-593f-4e6f-aa74-a7cc370fdec1",
   "metadata": {},
   "outputs": [
    {
     "name": "stdout",
     "output_type": "stream",
     "text": [
      "{11: 0, 2: 1, 15: 2}\n"
     ]
    },
    {
     "data": {
      "text/plain": [
       "[3, 1]"
      ]
     },
     "execution_count": 6,
     "metadata": {},
     "output_type": "execute_result"
    }
   ],
   "source": [
    "def twoSum(nums: list[int], target: int) -> list[int]:\n",
    "    hashmap = {}\n",
    "    for i in range(len(nums)):\n",
    "        complement = target - nums[i]\n",
    "        if complement in hashmap:\n",
    "            print(hashmap)\n",
    "            return [i, hashmap[complement]]\n",
    "        hashmap[nums[i]] = i\n",
    "\n",
    "        \n",
    "twoSum([11, 2, 15, 7], 9)"
   ]
  },
  {
   "cell_type": "markdown",
   "id": "0d0e92a7-493c-4859-bef6-ec9355c425ca",
   "metadata": {},
   "source": [
    "Firstly, sorting lists is rarely a good idea if the solution asks for the index. This solution relies on using the 'complement' (`target - nums[i]`); while iterating through our nums and inserting elements with their index into a hashtable, we make a check to see if the current element's complement already exists in the hash table.\n",
    "\n",
    "Let's say we're at the element `2` and we determine the complement as 9 - 2 = 7. If we look through all the elements that we've iterated over and find a value equal to this complement, we're done. Since `7` isn't in the dictionary, we can store `2` with its index in the hopes of finding a number whose complement is `2`, i.e., 9 - 7 = 2.\n",
    "\n",
    "Of course, once we reach 7 and find its complement as 9 - 7 = 2, it means we want the index corresponding to 7 (current loop's index) and the index corresponding to 2 (dictionary lookup)."
   ]
  },
  {
   "cell_type": "markdown",
   "id": "8691c7db-6cb3-486e-abda-034848e1e51e",
   "metadata": {
    "tags": []
   },
   "source": [
    "# 9. Palindrome Number"
   ]
  },
  {
   "cell_type": "markdown",
   "id": "5c4313d1-a2aa-4c69-9da1-d0349fb600a7",
   "metadata": {},
   "source": [
    "## Converting to an iterable (string): 89.20% faster"
   ]
  },
  {
   "cell_type": "code",
   "execution_count": 11,
   "id": "c25483fb-7c08-440a-aa52-9d4f5ea4f8ad",
   "metadata": {},
   "outputs": [],
   "source": [
    "def isPalindrome(self, x: int) -> bool:\n",
    "    if x < 0:\n",
    "        return False\n",
    "\n",
    "    return str(x) == str(x)[::-1]"
   ]
  },
  {
   "cell_type": "markdown",
   "id": "537d5ea4-86de-4e3b-a84c-3e4f8ab313af",
   "metadata": {},
   "source": [
    "## Letting it remain as integer: 99.14% faster."
   ]
  },
  {
   "cell_type": "code",
   "execution_count": 12,
   "id": "f3c46085-9725-4481-a46e-e3c77a5d8066",
   "metadata": {},
   "outputs": [
    {
     "data": {
      "text/plain": [
       "True"
      ]
     },
     "execution_count": 12,
     "metadata": {},
     "output_type": "execute_result"
    }
   ],
   "source": [
    "def isPalindrome(x: int) -> bool:\n",
    "    \n",
    "    # if x is negative, return False. if x is positive and last digit is 0, that also cannot form a palindrome, return False.\n",
    "    if x < 0 or (x > 0 and x%10 == 0):   \n",
    "        return False\n",
    "\n",
    "    reverse_x = 0\n",
    "    while x > reverse_x:\n",
    "        reverse_x = (x % 10) + (reverse_x * 10) \n",
    "        x = x // 10\n",
    "        \n",
    "    return True if (x == reverse_x or x == reverse_x // 10) else False\n",
    "\n",
    "isPalindrome(15951)"
   ]
  },
  {
   "cell_type": "markdown",
   "id": "55e8428b-67c2-481f-9f5d-ad33b7187158",
   "metadata": {},
   "source": [
    "The first thing to note is that `num // 10` is the easiest way to return all but the last digit of num.\n",
    "Second thing to note is that `num % 10` is the easiest way to return the last digit of num\n",
    "\n",
    "Steps:\n",
    "- If `15951` is negative or ending in 0, it cannot be a palindrome. Since it's neither, it can be.\n",
    "\n",
    "- We want to reverse the first half integers of `x`. If `x` has an even integer length, then `x` and `reverse_x` will have the exactly the same length e.g. 159 and reversed_first_half(159951) = 159. It's then very easy to check if palindrome; simply do `x == reverse_x`.\n",
    "\n",
    "- If it's odd, then we want to build up `reverse_x` and cut down `x`. For reverse_x, get the last digit of x (`(x % 10)`) and then add it to `reverse_x` = 0. For `x`, return all but the last digit (`x // 10`).\n",
    "    - `x = 15951    rev_x = 0`\n",
    "    - `x = 1595    rev_x = 1`\n",
    "    - `x = 159    rev_x = 15`\n",
    "    - `x = 15    rev_x = 159`\n",
    "  \n",
    "- Once we reach the last line, we just check if `x` is equal to all digits of `reverse_x` excluding the last (using reverse_x // 10), because it doesn't matter what the middle number 9 is."
   ]
  },
  {
   "cell_type": "markdown",
   "id": "3f08864b-69a9-4807-88c3-1a011f4a29ed",
   "metadata": {
    "tags": []
   },
   "source": [
    "# 13. Roman To Integer"
   ]
  },
  {
   "cell_type": "markdown",
   "id": "77918074-90e0-4ac3-8f6a-b3dcc9cf6644",
   "metadata": {},
   "source": [
    "## One pass without brute force or replacing: 96.9% faster."
   ]
  },
  {
   "cell_type": "code",
   "execution_count": 3,
   "id": "3ea1ba80-ed8f-4084-9682-8e49150c921a",
   "metadata": {},
   "outputs": [
    {
     "data": {
      "text/plain": [
       "998"
      ]
     },
     "execution_count": 3,
     "metadata": {},
     "output_type": "execute_result"
    }
   ],
   "source": [
    "def romanToInt(s: str) -> int:\n",
    "        roman = {'I': 1, 'V': 5, 'X': 10, 'L': 50, 'C':100, 'D': 500, 'M':1000}\n",
    "        \n",
    "        # s = 'CMXCVIII' -100 +1000 -10 +100 +5 +1 +1 +1 -> 998\n",
    "\n",
    "        # s = \"MCMXCIV\": +1000 -100 +1000 -10 +100 -1 +5\n",
    "\n",
    "        total = 0\n",
    "\n",
    "        for i in range(len(s)):\n",
    "            \n",
    "            if i+1 < len(s) and roman[s[i]] < roman[s[i+1]]:\n",
    "                total -= roman[s[i]]\n",
    "            \n",
    "            else: \n",
    "                total += roman[s[i]]\n",
    "            \n",
    "        return total\n",
    "    \n",
    "romanToInt('CMXCVIII')"
   ]
  },
  {
   "cell_type": "markdown",
   "id": "f50dc4d7-496c-4a2f-a4a2-ac92ee765639",
   "metadata": {},
   "source": [
    "We only apply expressions with the current element in the string. So, although we may consider the next letter, we don't get ahead of ourselves by trying to skip an iteration in the loop or anything.\n",
    "\n",
    "Simply put, we go left -> right and if the next number is bigger then our current number is made negative and added to the total. For example, if we're doing 'CM', since 'C' is smaller than 'M', 'C' is made negative -> -100. Then, when we get to 'M', since M is biggewr than its following letter, it remains positive -> 1000.\n",
    "\n",
    "Both of these are added to the total: total = -100 + 1000 = 900."
   ]
  },
  {
   "cell_type": "markdown",
   "id": "92f587cb-ec27-40f7-a151-3700c9fbf155",
   "metadata": {},
   "source": [
    "## Replacing letters to remove the nuances of the roman numeral system: 99.8% faster"
   ]
  },
  {
   "cell_type": "code",
   "execution_count": 4,
   "id": "9bd7f321-bc36-4827-9a92-f9301db09daa",
   "metadata": {},
   "outputs": [
    {
     "data": {
      "text/plain": [
       "998"
      ]
     },
     "execution_count": 4,
     "metadata": {},
     "output_type": "execute_result"
    }
   ],
   "source": [
    "def romanToInt(s: str) -> int:\n",
    "        translations = {\n",
    "            \"I\": 1,\n",
    "            \"V\": 5,\n",
    "            \"X\": 10,\n",
    "            \"L\": 50,\n",
    "            \"C\": 100,\n",
    "            \"D\": 500,\n",
    "            \"M\": 1000\n",
    "        }\n",
    "        number = 0\n",
    "        s = s.replace(\"IV\", \"IIII\").replace(\"IX\", \"VIIII\")\n",
    "        s = s.replace(\"XL\", \"XXXX\").replace(\"XC\", \"LXXXX\")\n",
    "        s = s.replace(\"CD\", \"CCCC\").replace(\"CM\", \"DCCCC\")\n",
    "        for char in s:\n",
    "            number += translations[char]\n",
    "        return number\n",
    "    \n",
    "romanToInt('CMXCVIII')"
   ]
  },
  {
   "cell_type": "markdown",
   "id": "b183a09a-c8dd-45af-b36b-d450cdef0300",
   "metadata": {},
   "source": [
    "# 14. Longest Common Prefix"
   ]
  },
  {
   "cell_type": "markdown",
   "id": "0eb58cd7-dc94-4442-994b-ba360b258987",
   "metadata": {},
   "source": [
    "## My way: 93.3% faster"
   ]
  },
  {
   "cell_type": "markdown",
   "id": "5b871a22-53f4-42ae-a630-67d14355fe06",
   "metadata": {},
   "source": [
    "If we take the shortest word and it is equal to the prefix of all other words, where the prefix has length = shortest word, then the shortest word is the longest common prefix.\n",
    "\n",
    "If not, then iterate through the words until you find the word who's not equal to the shortest word and reduce the shortest word's length until they're both equal."
   ]
  },
  {
   "cell_type": "code",
   "execution_count": 4,
   "id": "bbafc07a-44c0-4da5-bd43-50ffec32a10d",
   "metadata": {},
   "outputs": [
    {
     "data": {
      "text/plain": [
       "'fl'"
      ]
     },
     "execution_count": 4,
     "metadata": {},
     "output_type": "execute_result"
    }
   ],
   "source": [
    "from functools import reduce\n",
    "\n",
    "def longestCommonPrefix(strs: list[str]) -> str:\n",
    "    \n",
    "        shortest = reduce(lambda x, y: x if len(x) < len(y) else y, strs)\n",
    "        length = len(shortest)\n",
    "        \n",
    "        for word in strs:\n",
    "            if word[:length] != shortest:\n",
    "                while shortest != word[:length]:\n",
    "                    shortest = shortest[:-1]\n",
    "                    length -= 1\n",
    "    \n",
    "        return shortest\n",
    "\n",
    "    \n",
    "longestCommonPrefix(['flower', 'flood', 'flew', 'fly', 'flounder'])             "
   ]
  },
  {
   "cell_type": "markdown",
   "id": "d1897ad0-16b2-4f2c-b577-91d7337f057f",
   "metadata": {},
   "source": [
    "## Short min/max solution: 88.3% faster"
   ]
  },
  {
   "cell_type": "code",
   "execution_count": 7,
   "id": "597f7ff3-4201-4cd3-8ef8-6e4a7d90ed85",
   "metadata": {},
   "outputs": [
    {
     "name": "stdout",
     "output_type": "stream",
     "text": [
      "flew fly\n"
     ]
    },
    {
     "data": {
      "text/plain": [
       "'fl'"
      ]
     },
     "execution_count": 7,
     "metadata": {},
     "output_type": "execute_result"
    }
   ],
   "source": [
    "def longestCommonPrefix(strs):\n",
    "        if not strs: return ''\n",
    "        \n",
    "        # Find the string which appears first and last by alphabetical order, not length.\n",
    "        # So, 'flew' comes first because all words are identical up to 'fl' and 'e' is alphebetically earliest.\n",
    "        # 'fly' is last because 'y' comes after o and e. \n",
    "        s1 = min(strs)\n",
    "        s2 = max(strs)\n",
    "        print(s1, s2)\n",
    "\n",
    "        for i, c in enumerate(s1):\n",
    "            if c != s2[i]:\n",
    "                return s1[:i] #stop until hit the split index\n",
    "        return s1\n",
    "    \n",
    "longestCommonPrefix(['flower', 'flood', 'flew', 'fly', 'flounder'])              "
   ]
  },
  {
   "cell_type": "markdown",
   "id": "5c82db0b-6ce8-4d8e-af76-9bd88d0d4931",
   "metadata": {},
   "source": [
    "## Take letters of the first and last word (based on length) in the array, pairwise: Unknown"
   ]
  },
  {
   "cell_type": "code",
   "execution_count": 12,
   "id": "9662abf5-32f2-4ec1-873c-6292eee3f6bf",
   "metadata": {},
   "outputs": [
    {
     "name": "stdout",
     "output_type": "stream",
     "text": [
      "f f\n",
      "l l\n",
      "o y\n"
     ]
    },
    {
     "data": {
      "text/plain": [
       "'fl'"
      ]
     },
     "execution_count": 12,
     "metadata": {},
     "output_type": "execute_result"
    }
   ],
   "source": [
    "def longestCommonPrefix(strs):\n",
    "\n",
    "    prefix = ''\n",
    "\n",
    "    s1 = max(strs, key=len)\n",
    "    s2 = min(strs, key=len)\n",
    "\n",
    "    for i, o in zip(s1, s2): # zip of 'fly' and 'flounder' is a zip obj that looks like: [(f,f),\n",
    "                             #                                                            (l,l), \n",
    "                             #                                                            (y,o)]\n",
    "                             # the zip terminates when the shortest iterable has been exhausted.\n",
    "        print(i, o)\n",
    "\n",
    "        if i == o:\n",
    "            prefix += i\n",
    "        else:\n",
    "            break\n",
    "            \n",
    "    return prefix\n",
    "    \n",
    "longestCommonPrefix(['flower', 'flood', 'flew', 'fly', 'flounder'])                  "
   ]
  },
  {
   "cell_type": "markdown",
   "id": "e3612824-7b23-44cb-bf3d-8fdbf79a1f82",
   "metadata": {},
   "source": [
    "# 20. Valid Parentheses"
   ]
  },
  {
   "cell_type": "markdown",
   "id": "cc0d4a12-6f1b-4dc7-8c7a-077d288f77a1",
   "metadata": {},
   "source": [
    "## Stack Data Structure"
   ]
  },
  {
   "cell_type": "code",
   "execution_count": 14,
   "id": "cda4d4fe-5964-4811-9ca3-bd4f46480061",
   "metadata": {},
   "outputs": [
    {
     "name": "stdout",
     "output_type": "stream",
     "text": [
      "True\n",
      "False\n"
     ]
    }
   ],
   "source": [
    "def isValid(s):\n",
    "    \n",
    "    if len(s) % 2 == 1: return False # clearly if there's an odd number of brackets, it's False.\n",
    "\n",
    "    d = {'(':')', '{':'}','[':']'}\n",
    "    stack = []\n",
    "    \n",
    "    for i in s:\n",
    "        if i in d:  # 1\n",
    "            stack.append(i)\n",
    "        elif len(stack) == 0 or d[stack.pop()] != i:  # 2\n",
    "            return False\n",
    "    return len(stack) == 0 # 3\n",
    "\n",
    "print(isValid('([{}][{}])'))\n",
    "print(isValid('([{}'))"
   ]
  },
  {
   "cell_type": "markdown",
   "id": "7e923101-4f1e-4917-bcb6-c6e1ea24a7ca",
   "metadata": {},
   "source": [
    "We build up a stack of left-type brackets. Once we find a right-type bracket, we pop of the most recently added item (top of stack) and see if the two match. If they match, that's good - we can continue with the `for` loop. If they don't, we immediately return False. Something like `{[]([}` can never be valid because a closing bracket must always follow an open bracket with the stack structure. Here's the stack evolution for `{[]([}`:\n",
    "\n",
    "```\n",
    "1. {\n",
    "2. {[\n",
    "3. {   ; the [ matches ] so we pop [.\n",
    "4. {(\n",
    "5. {(  ; the final } does not match the most recent (, therefore, return False.\n",
    "```\n",
    "\n",
    "- If it's the left bracket then we append it to the stack.\n",
    "- Else if it's the right bracket and the stack is empty (meaning all matching left brackets have been closed), or the left bracket doesn't match, return False\n",
    "- Finally check if the stack still contains unmatched left bracket. If so, it's False"
   ]
  },
  {
   "cell_type": "markdown",
   "id": "635e5dab-31c0-44b8-a10b-e6039a1b9441",
   "metadata": {},
   "source": [
    "# 21. Merge Two Sorted Lists"
   ]
  },
  {
   "cell_type": "markdown",
   "id": "f31e2811-401d-4ffc-906a-7452ea4c219f",
   "metadata": {},
   "source": [
    "## Two pointers, One static at the head and one that traverses and updates: 90.56% faster"
   ]
  },
  {
   "cell_type": "code",
   "execution_count": 23,
   "id": "3f63975f-46e0-4397-8d36-8bd1a91fc5cc",
   "metadata": {},
   "outputs": [],
   "source": [
    "# Definition for singly-linked list.\n",
    "class ListNode:\n",
    "    def __init__(self, val=0, next=None):\n",
    "        self.val = val\n",
    "        self.next = next\n",
    "        \n",
    "        \n",
    "class Solution:\n",
    "    def mergeTwoLists(self, list1, list2):\n",
    "        tail = dummy = ListNode()\n",
    "        while list1 and list2:   \n",
    "            \n",
    "            if list1.val < list2.val:\n",
    "                tail.next = list1\n",
    "                print(f'IF1: tail.next.val is {tail.next.val}')\n",
    "                list1, tail = list1.next, list1\n",
    "                \n",
    "                # try:\n",
    "                #     print(f\"IF2: tail.val is {tail.val} and tail.next.val is {tail.next.val}\")\n",
    "                # except:\n",
    "                #     print('reached the last loop of IF')\n",
    "            else:\n",
    "                tail.next = list2\n",
    "                print(f'ELSE1: tail.next.val is {tail.next.val}')\n",
    "                list2, tail = list2.next, list2\n",
    "                # try: \n",
    "                #     print(f\"ELSE2: tail.val is {tail.val} and tail.next.val is {tail.next.val}\")\n",
    "                # except:\n",
    "                #     print('reached the last loop of ELSE')\n",
    "                \n",
    "        if list1 or list2:\n",
    "            tail.next = list1 if list1 else list2\n",
    "            \n",
    "        return dummy.next"
   ]
  },
  {
   "cell_type": "code",
   "execution_count": 24,
   "id": "5f9e973a-2b02-4751-bf39-6a740166c7e7",
   "metadata": {},
   "outputs": [],
   "source": [
    "l1 = ListNode(1, next=ListNode(2, next=ListNode(4, next=None)))\n",
    "l2 = ListNode(1, next=ListNode(3, next=ListNode(4, next=None)))"
   ]
  },
  {
   "cell_type": "code",
   "execution_count": 25,
   "id": "3bf476b7-2029-4500-8382-0cd11fbb6a40",
   "metadata": {},
   "outputs": [
    {
     "name": "stdout",
     "output_type": "stream",
     "text": [
      "ELSE1: tail.next.val is 1\n",
      "IF1: tail.next.val is 1\n",
      "IF1: tail.next.val is 2\n",
      "ELSE1: tail.next.val is 3\n",
      "ELSE1: tail.next.val is 4\n"
     ]
    },
    {
     "data": {
      "text/plain": [
       "<__main__.ListNode at 0x7ff30a4c3e50>"
      ]
     },
     "execution_count": 25,
     "metadata": {},
     "output_type": "execute_result"
    }
   ],
   "source": [
    "solution = Solution()\n",
    "solution.mergeTwoLists(l1, l2)"
   ]
  },
  {
   "cell_type": "markdown",
   "id": "6f8cb8e0-ca87-415f-a381-996e50f93c0a",
   "metadata": {},
   "source": [
    "**Explanation:**\n",
    "\n",
    "The key thing to understand is that `dummy` always remains at the head of our new linked list while `tail` is always somewhere within the same linked list.\n",
    "\n",
    "The evolution of `dummy` throughout the iterations looks something like this:\n",
    "\n",
    "```\n",
    "dummy = 0 -> None                                        l1 = (1 -> 2 -> 4)          l2 = (1 -> 3 -> 4)\n",
    "dummy = 0 -> [1 -> 3 -> 4]                               l1 = (1 -> 2 -> 4)          l2 = (3 -> 4)          \n",
    "dummy = 0 -> 1 -> [1 -> 2 -> 4]                          l1 = (2 -> 4)               l2 = (3 -> 4)\n",
    "dummy = 0 -> 1 -> 1 -> [2 -> 4]                          l1 = (4)                    l2 = (3 -> 4)\n",
    "dummy = 0 -> 1 -> 1 -> 2 -> [3 -> 4]                     l1 = (4)                    l2 = (4)\n",
    "dummy = 0 -> 1 -> 1 -> 2 -> 3 -> [4]                     l1 = (4)                    l2 = None\n",
    "dummy = 0 -> 1 -> 1 -> 2 -> 3 -> 4 -> [4]                l1 = None                   l2 = None\n",
    "\n",
    "```"
   ]
  },
  {
   "cell_type": "markdown",
   "id": "70fbf656-c8ea-400c-bc6c-324b8fb27c41",
   "metadata": {},
   "source": [
    "<img src=LeetCode-Images/21.1.png width=900 />\n",
    "<img src=LeetCode-Images/21.2.png width=900 />\n",
    "<img src=LeetCode-Images/21.3.png width=900 />\n",
    "<img src=LeetCode-Images/21.4.png width=450 />"
   ]
  },
  {
   "cell_type": "markdown",
   "id": "767e48d8-0fa8-4bff-a1b8-a0eabd8b9966",
   "metadata": {
    "tags": []
   },
   "source": [
    "# 26. Remove Duplicates from Sorted Array"
   ]
  },
  {
   "cell_type": "markdown",
   "id": "8dd554fc-3db5-4801-b2da-b2b0eaabeb0a",
   "metadata": {
    "tags": []
   },
   "source": [
    "## Two Pointers, one to update/insert and one to traverse/read (vijayzuzu solution)"
   ]
  },
  {
   "cell_type": "code",
   "execution_count": 26,
   "id": "b65cde3e-0899-4d72-8747-4554967c4286",
   "metadata": {},
   "outputs": [
    {
     "data": {
      "text/plain": [
       "'list without duplicates: [0, 1, 2, 3, 4, 2, 2, 3, 3, 4] with 5 unique elements. Elements at and after the 5th index are unimportant.'"
      ]
     },
     "execution_count": 26,
     "metadata": {},
     "output_type": "execute_result"
    }
   ],
   "source": [
    "my_list = [0, 0, 1, 1, 1, 2, 2, 3, 3, 4] \n",
    "\n",
    "def removeDuplicates(nums):\n",
    "    \n",
    "    x = 1\n",
    "    \n",
    "    for i in range(len(nums)-1):\n",
    "        \n",
    "        if(nums[i]!=nums[i+1]):\n",
    "            \n",
    "            nums[x] = nums[i+1]\n",
    "            x+=1\n",
    "            \n",
    "    return(f'list without duplicates: {nums} with {x} unique elements. Elements at and after the {x}th index are unimportant.')\n",
    "\n",
    "removeDuplicates(my_list)"
   ]
  },
  {
   "cell_type": "markdown",
   "id": "a3fcdf97-bc75-4ee3-bdee-e37e0f3fefe5",
   "metadata": {},
   "source": [
    "Given a sorted array and we need to return the length of the unique elements instead of the entire array. There is no need to delete the duplicate elements also.\n",
    "\n",
    "- Since, our first element is already present at index 0 (it is a unique element), we quickly run a for loop for the entire array to scan for unique elements.\n",
    "- If the current element and the next element are the same, then we just keep on going till we find a different element\n",
    "- Once we find a different element, it is inserted at index 1, because, index 0 is taken by the first unique element.\n",
    "- Once this is done, the same scanning is done to find out the next unique element and this element is to be inserted at index 2. This process continues until we are done with unique elements.\n",
    "- We use a variable (x = 1) which is incremented to the next index whenever we find a unique element and we insert this element at its corresponding index."
   ]
  },
  {
   "cell_type": "markdown",
   "id": "d9df8e36-3aa7-4dba-8b0f-bf25d57f117d",
   "metadata": {},
   "source": [
    "<img src='LeetCode-Images/26.1.png' width=700 />"
   ]
  },
  {
   "cell_type": "markdown",
   "id": "a5e0708c-2ec0-45d1-b551-867b092e61af",
   "metadata": {},
   "source": [
    "## My solution (slightly less elegant)"
   ]
  },
  {
   "cell_type": "code",
   "execution_count": 27,
   "id": "a9b3955e-440f-4804-9a30-63bba430c0b4",
   "metadata": {},
   "outputs": [
    {
     "name": "stdout",
     "output_type": "stream",
     "text": [
      "[0, 1, 2, 3, 4]\n"
     ]
    }
   ],
   "source": [
    "my_list = [0, 0, 1, 1, 1, 2, 2, 3, 3, 4] \n",
    "\n",
    "def removeDuplicates(list):\n",
    "    \n",
    "    for idx, item in enumerate(list):\n",
    "        if idx+1 < len(list):\n",
    "            \n",
    "            counter = idx + 1\n",
    "            \n",
    "            while item == list[counter]:\n",
    "                counter += 1  \n",
    "            \n",
    "            del list[idx+1:counter]\n",
    "    \n",
    "    return list\n",
    "\n",
    "print(removeDuplicates(my_list))"
   ]
  },
  {
   "cell_type": "markdown",
   "id": "cb4e916d-3029-46d7-a1c6-8101cd43c09c",
   "metadata": {},
   "source": [
    "# 27. Remove Element"
   ]
  },
  {
   "cell_type": "markdown",
   "id": "0722d716-a24d-49dc-b698-f3e64fe3764e",
   "metadata": {},
   "source": [
    "## Short 5 line solution (in-place)"
   ]
  },
  {
   "cell_type": "markdown",
   "id": "f072d485-02b9-425d-ada0-453f292caa69",
   "metadata": {},
   "source": [
    "This is not a very well-defined problem for Python in particular because you can just do a quick list comprehension or use python's `.remove`. See 2nd solution for that."
   ]
  },
  {
   "cell_type": "code",
   "execution_count": 28,
   "id": "296312e2-9a00-4e95-b700-245092e8ed8a",
   "metadata": {},
   "outputs": [
    {
     "data": {
      "text/plain": [
       "(4, [0, 1, 0, 3, 0, 3])"
      ]
     },
     "execution_count": 28,
     "metadata": {},
     "output_type": "execute_result"
    }
   ],
   "source": [
    "def removeElement(nums, val):\n",
    "    i = 0\n",
    "    for x in nums:\n",
    "        if x != val:\n",
    "            nums[i] = x\n",
    "            i += 1\n",
    "    return i, nums\n",
    "\n",
    "removeElement([0, 1, 2, 2, 0, 3], 2)"
   ]
  },
  {
   "cell_type": "markdown",
   "id": "9fb3d81f-e1a9-4d95-8974-5b9faede0909",
   "metadata": {},
   "source": [
    "## Straightforward list comprehension solution"
   ]
  },
  {
   "cell_type": "code",
   "execution_count": 29,
   "id": "ba3b8f64-79ed-4835-988e-46eb709f4c67",
   "metadata": {},
   "outputs": [
    {
     "data": {
      "text/plain": [
       "([0, 1, 0, 3], 4)"
      ]
     },
     "execution_count": 29,
     "metadata": {},
     "output_type": "execute_result"
    }
   ],
   "source": [
    "def removeElement(nums, val):\n",
    "        \n",
    "        nums[:] = [item for item in nums if item != val]\n",
    "    \n",
    "        return nums, len(nums)\n",
    "    \n",
    "\n",
    "removeElement([0, 1, 2, 2, 0, 3], 2)"
   ]
  },
  {
   "cell_type": "markdown",
   "id": "97231340-3236-4c42-90c6-058a9abae531",
   "metadata": {},
   "source": [
    "# 35. Search Insert Position "
   ]
  },
  {
   "cell_type": "markdown",
   "id": "4bd15446-285a-4647-85e5-b3eeb4ee8c09",
   "metadata": {},
   "source": [
    "## Binary Search: 95% faster"
   ]
  },
  {
   "cell_type": "code",
   "execution_count": 30,
   "id": "40091416-3c0f-44e5-96aa-1f673e7e049b",
   "metadata": {},
   "outputs": [
    {
     "data": {
      "text/plain": [
       "3"
      ]
     },
     "execution_count": 30,
     "metadata": {},
     "output_type": "execute_result"
    }
   ],
   "source": [
    "def searchInsert(arr, val):\n",
    "    \n",
    "    low = 0\n",
    "    high = len(arr) - 1 \n",
    "    \n",
    "    while low <= high:\n",
    "        \n",
    "        mid = low + (high-low)//2\n",
    "        \n",
    "        if arr[mid] == val:\n",
    "            return mid\n",
    "            \n",
    "        elif arr[mid] > val:\n",
    "            high = mid - 1\n",
    "        \n",
    "        else: \n",
    "            low = mid + 1\n",
    "            \n",
    "    return low\n",
    "\n",
    "my_arr = [1, 2, 3, 5, 7, 8, 9, 10, 11]\n",
    "my_val = 4\n",
    "\n",
    "searchInsert(my_arr, my_val)"
   ]
  },
  {
   "cell_type": "markdown",
   "id": "a5e7cecd-7f0f-4eb2-b8a9-96b688128fbe",
   "metadata": {},
   "source": [
    "<img src='LeetCode-Images/35.1.png' width=700 />"
   ]
  },
  {
   "cell_type": "markdown",
   "id": "3a9247d2-ad53-419a-95ce-dd800b60f0ed",
   "metadata": {},
   "source": [
    "When the array gets constrained to one element, we check if that element is equal to our target. If so, we return mid/low/high. If not, then there's two ways it can go:\n",
    "- 'elif' route: This implies that our target is still smaller than our array that's been constrained to one element. As a result, our while loop terminates and 'low' is the position that we should insert our value.\n",
    "\n",
    "- 'else' route: This implies that our target is still larger than our array that's been constrained to one element. As a result, we first increment low and then our while loop terminates. At this point, 'low' is the position that we should insert our value.\n",
    "\n",
    "In both cases 'low' returns the correct position so we keep it outside of our while loop."
   ]
  },
  {
   "cell_type": "markdown",
   "id": "c2129fdd-ba5a-4da0-a2b7-3058a8e76f5c",
   "metadata": {},
   "source": [
    "# 58. Length of Last Word"
   ]
  },
  {
   "cell_type": "markdown",
   "id": "b5d569e2-d7b5-4508-aaf0-7a022c11819f",
   "metadata": {},
   "source": [
    "## My solution: 92% faster"
   ]
  },
  {
   "cell_type": "markdown",
   "id": "977cda0c-3186-42d2-aec8-2dea65f436d8",
   "metadata": {},
   "source": [
    "What makes this problem more difficult than it needs to be is the fact that we may have strings that look like `\"    hello     world    \"`, and we need this to return the length of the word `'world'`. So, the best thing to do is to use `rstrip(' ')` (we don't need `lstrip(' ')` because we only want the length of the last word). Nevertheless, my solution doesn't use it."
   ]
  },
  {
   "cell_type": "code",
   "execution_count": 1,
   "id": "c6814e28-93ce-4bfd-bc8b-987149a2582f",
   "metadata": {},
   "outputs": [
    {
     "name": "stdout",
     "output_type": "stream",
     "text": [
      "5\n",
      "1\n",
      "1\n",
      "3\n"
     ]
    }
   ],
   "source": [
    "def lengthOfLastWord(s):\n",
    "    \n",
    "    end = len(s) -1 \n",
    "    \n",
    "    if end < 1:\n",
    "        return 1\n",
    "    \n",
    "    while end >= 0 and s[end] == ' ':\n",
    "        end -= 1\n",
    "    \n",
    "    beg = end \n",
    "        \n",
    "    while beg >= 0 and s[beg] != ' ':\n",
    "        beg -= 1\n",
    "  \n",
    "    return end - beg\n",
    "        \n",
    "print(lengthOfLastWord('    Hello    World  '))\n",
    "print(lengthOfLastWord('a '))\n",
    "print(lengthOfLastWord('a'))\n",
    "print(lengthOfLastWord('day'))"
   ]
  },
  {
   "cell_type": "markdown",
   "id": "ea7ff2a0-68db-4adf-a498-602dac91134c",
   "metadata": {},
   "source": [
    "## Solution using rstrip(' '): 93% faster"
   ]
  },
  {
   "cell_type": "code",
   "execution_count": 3,
   "id": "a853716d-6797-44a9-a10c-dfdb119df43c",
   "metadata": {},
   "outputs": [
    {
     "name": "stdout",
     "output_type": "stream",
     "text": [
      "5\n",
      "1\n",
      "1\n",
      "3\n"
     ]
    }
   ],
   "source": [
    "def lengthOfLastWord(s):\n",
    "    return len(s.rstrip(' ').split(' ')[-1])\n",
    "\n",
    "print(lengthOfLastWord('    Hello    World  '))\n",
    "print(lengthOfLastWord('a '))\n",
    "print(lengthOfLastWord('a'))\n",
    "print(lengthOfLastWord('day'))"
   ]
  },
  {
   "cell_type": "markdown",
   "id": "222cb9f0-2b78-4d19-94e1-f770c7d60b95",
   "metadata": {},
   "source": [
    "# 66. Plus One"
   ]
  },
  {
   "cell_type": "markdown",
   "id": "82781847-b7e8-4fca-ba73-a54bb5f9afd5",
   "metadata": {},
   "source": [
    "## My solution: 90+% faster"
   ]
  },
  {
   "cell_type": "code",
   "execution_count": 6,
   "id": "91394cac-3565-4db5-942b-96c5092a88d3",
   "metadata": {},
   "outputs": [
    {
     "name": "stdout",
     "output_type": "stream",
     "text": [
      "[1]\n",
      "[1, 0]\n",
      "[3, 1, 7, 5]\n",
      "[1, 0, 0, 0, 0]\n"
     ]
    }
   ],
   "source": [
    "def plusOne(digits: list[int]) -> list[int]:\n",
    "    \n",
    "    end = len(digits) - 1\n",
    "    while end >= 0: \n",
    "        if digits[end] == 9:   \n",
    "            digits[end] = 0\n",
    "                \n",
    "            if end == 0:\n",
    "                digits.insert(0, 1)\n",
    "            end -= 1\n",
    "                     \n",
    "        else:\n",
    "            digits[end] += 1\n",
    "            break\n",
    "\n",
    "    return digits\n",
    "\n",
    "print(plusOne([0]))\n",
    "print(plusOne([9]))\n",
    "print(plusOne([3,1,7,4]))\n",
    "print(plusOne([9,9,9,9]))"
   ]
  },
  {
   "cell_type": "markdown",
   "id": "8adc1213-913b-45f9-9696-1c00c49ea30c",
   "metadata": {},
   "source": [
    "## Similar to my solution but cleaner: 90+% faster"
   ]
  },
  {
   "cell_type": "code",
   "execution_count": 11,
   "id": "0309aeed-c9b0-4b30-85aa-bf0ca5e9e483",
   "metadata": {},
   "outputs": [
    {
     "name": "stdout",
     "output_type": "stream",
     "text": [
      "[1]\n",
      "[1, 0]\n",
      "[3, 1, 7, 5]\n",
      "[1, 0, 0, 0, 0]\n"
     ]
    }
   ],
   "source": [
    "def plusOne(digits):\n",
    "    length = len(digits) - 1\n",
    "    \n",
    "    while digits[length] == 9:\n",
    "        digits[length] = 0\n",
    "        length -= 1\n",
    "        \n",
    "    if(length < 0):\n",
    "        digits.insert(0, 1)\n",
    "        \n",
    "    else:\n",
    "        digits[length] += 1\n",
    "        \n",
    "    return digits\n",
    "\n",
    "print(plusOne([0]))\n",
    "print(plusOne([9]))\n",
    "print(plusOne([3,1,7,4]))\n",
    "print(plusOne([9,9,9,9]))"
   ]
  },
  {
   "cell_type": "markdown",
   "id": "0587d73c-9a3b-450c-ac81-3a2610906603",
   "metadata": {},
   "source": [
    "## Cheeky solution: 98% faster"
   ]
  },
  {
   "cell_type": "markdown",
   "id": "c711ad8e-a967-469c-b82a-e330ec8c6225",
   "metadata": {},
   "source": [
    "The first is without using 'map'. Apparently map is very quick."
   ]
  },
  {
   "cell_type": "code",
   "execution_count": 23,
   "id": "ca0c9394-fc8c-42bf-b8a2-26ca81456be8",
   "metadata": {},
   "outputs": [
    {
     "name": "stdout",
     "output_type": "stream",
     "text": [
      "[1]\n",
      "[1, 0]\n",
      "[3, 1, 7, 5]\n",
      "[1, 0, 0, 0, 0]\n"
     ]
    }
   ],
   "source": [
    "def plusOne(digits):\n",
    "    result = []\n",
    "    str_digits = ''.join(str(i) for i in digits)\n",
    "    int_digits = int(str_digits) + 1\n",
    "    str_digits = str(int_digits)\n",
    "    for i in str_digits:\n",
    "        result.append(int(i))\n",
    "    return result\n",
    "\n",
    "print(plusOne([0]))\n",
    "print(plusOne([9]))\n",
    "print(plusOne([3,1,7,4]))\n",
    "print(plusOne([9,9,9,9]))"
   ]
  },
  {
   "cell_type": "code",
   "execution_count": 24,
   "id": "c785c14f-95bf-4949-b2f7-9547eef26c18",
   "metadata": {},
   "outputs": [
    {
     "name": "stdout",
     "output_type": "stream",
     "text": [
      "[1]\n",
      "[1, 0]\n",
      "[3, 1, 7, 5]\n",
      "[1, 0, 0, 0, 0]\n"
     ]
    }
   ],
   "source": [
    "def plusOne(digits):\n",
    "    \n",
    "    str_numbers = map(str, digits) # applies the function 'str' on each element in digits\n",
    "    int_number = int(''.join(str_numbers)) # joins each element together where each element is separated by '', then convert to integer.\n",
    "    int_number += 1\n",
    "    str_number = str(int_number)\n",
    "    return [int(number) for number in str_number]\n",
    "\n",
    "print(plusOne([0]))\n",
    "print(plusOne([9]))\n",
    "print(plusOne([3,1,7,4]))\n",
    "print(plusOne([9,9,9,9]))"
   ]
  },
  {
   "cell_type": "markdown",
   "id": "54adc8e7-cced-400d-adf6-65480a9824df",
   "metadata": {},
   "source": [
    "# 67. Add Binary"
   ]
  },
  {
   "cell_type": "markdown",
   "id": "9aa92412-d000-48fc-adfb-acd54c136d78",
   "metadata": {},
   "source": [
    "## Neetcode Solution"
   ]
  },
  {
   "cell_type": "markdown",
   "id": "62de645c-747e-49ea-bd35-a3bd5ce5bdee",
   "metadata": {},
   "source": [
    "The intuition is taken from this video: https://www.youtube.com/watch?v=keuWJ47xG8g. The key is to understand how addition works in binary. \n",
    "\n",
    "It works identically to how addition works in base 10. \n",
    "\n",
    "If the sum of two numbers goes over 9, e.g. 8 + 5 = 13, then we keep the 3 and carry the 1 to the next column. \n",
    "\n",
    "We retrieve the 3 mathematically by doing 13 % 10; this converts 13 to base 10 (i.e. 0-9).\n",
    "\n",
    "How do mathematically retrieve the 1? Consider the base 10 case of adding 329 with 59. Adding the first two 9's gets 18 and so we write the 8 and carry the 1. When we add the 2 and the 5 with the carry of 1, we get 8 and we carry 0. The pattern is that if the number's between 0 and 9, we carry 0; if it's between 10 and 19, we carry 1; if it's between 20 and 29, we carry 2 (but getting over 19 is impossible in base 10). We simply want to divide our number by 10 and then round down. Therefore 18 / 10 = 1.8, round down to 1; 8 / 10 = 0.8, round down to 0. This is the floor division: carry = (a + b + carry) // 10.\n",
    "\n",
    "Finally, if we reach the end of the loop and we have a remainder, we just append that to our string. Our final result is our current result backwards.\n",
    "\n",
    "One issue with the below solution is that strings are immutable, which makes this code O(n^2). Instead, we should use lists and append our numbers and then convert back at the end."
   ]
  },
  {
   "cell_type": "code",
   "execution_count": 25,
   "id": "57b6a36a-37fd-4a9a-9e9b-d3e64cb87768",
   "metadata": {},
   "outputs": [
    {
     "data": {
      "text/plain": [
       "'10101'"
      ]
     },
     "execution_count": 25,
     "metadata": {},
     "output_type": "execute_result"
    }
   ],
   "source": [
    "def addBinary(a: str, b: str) -> str:\n",
    "    \n",
    "        a, b = a[::-1], b[::-1]\n",
    "\n",
    "        result = ''\n",
    "        carry = 0\n",
    "        \n",
    "        for i in range(max(len(a),len(b))):\n",
    "            \n",
    "            digit_a = int(a[i]) if i < len(a) else 0\n",
    "            digit_b = int(b[i]) if i < len(b) else 0\n",
    "\n",
    "            total = digit_a + digit_b + carry\n",
    "            carry = total // 2\n",
    "\n",
    "            total_binary_str = str(total % 2)\n",
    "    \n",
    "            result += total_binary_str\n",
    "\n",
    "        \n",
    "        if carry == 1:\n",
    "            result += str(carry)\n",
    "\n",
    "        result = result[::-1]\n",
    "\n",
    "        return result\n",
    "    \n",
    "addBinary('1010', '1011')"
   ]
  },
  {
   "cell_type": "markdown",
   "id": "7556624e-39ed-4cda-ac8f-9cecb08df0c5",
   "metadata": {},
   "source": [
    "# 69. Sqrt(x)"
   ]
  },
  {
   "cell_type": "markdown",
   "id": "2926c278-f265-4d08-aa19-e39df5f22747",
   "metadata": {},
   "source": [
    "## My solution - Simple binary: 90% faster"
   ]
  },
  {
   "cell_type": "markdown",
   "id": "b8d4bd00-9082-490c-a8ec-0df3c4a04050",
   "metadata": {},
   "source": [
    "We round down to the nearest integer if the true square root is a float."
   ]
  },
  {
   "cell_type": "code",
   "execution_count": null,
   "id": "65e91560-fd24-42b3-9090-4edd87805609",
   "metadata": {},
   "outputs": [],
   "source": [
    "def mySqrt(x):\n",
    "        \n",
    "        low, high = 1, x\n",
    "\n",
    "        best = x * x\n",
    "\n",
    "        mid = low + (high-low) // 2\n",
    "\n",
    "        while low < high:\n",
    "            \n",
    "            answer_low = low * low\n",
    "            answer_high = high * high\n",
    "\n",
    "            mid = low + (high-low) // 2\n",
    "            answer_mid = mid * mid\n",
    "            \n",
    "            if answer_mid == x:\n",
    "                return mid\n",
    "\n",
    "            elif low == mid:\n",
    "                return low\n",
    "\n",
    "            elif answer_low <= x <= answer_mid:\n",
    "                high = mid\n",
    "\n",
    "            else: \n",
    "                low = mid \n",
    "\n",
    "        return x"
   ]
  },
  {
   "cell_type": "markdown",
   "id": "8bb01734-c8af-44b7-b704-0072a4576819",
   "metadata": {},
   "source": [
    "## Newton Method"
   ]
  },
  {
   "cell_type": "markdown",
   "id": "8e47d045-cce9-4fea-bd0e-30f6354c1142",
   "metadata": {},
   "source": [
    "This method converges our guess from above which means that we can never overcorrect."
   ]
  },
  {
   "cell_type": "code",
   "execution_count": null,
   "id": "4731468a-c2c8-423a-b71a-2e0323e60b2f",
   "metadata": {},
   "outputs": [],
   "source": [
    "def mySqrt(x):\n",
    "    r = x\n",
    "    while r > x/r:\n",
    "        r = (r + x/r) / 2\n",
    "    return int(r)\n",
    "\n",
    "mySqrt(5)"
   ]
  },
  {
   "cell_type": "code",
   "execution_count": null,
   "id": "c92673c0-a9e1-4495-a7ba-3a79c6643c0f",
   "metadata": {},
   "outputs": [],
   "source": []
  },
  {
   "cell_type": "markdown",
   "id": "0855b85b-555e-4c5a-b43d-c75fa58eb800",
   "metadata": {},
   "source": [
    "# 70. Climbing Stairs"
   ]
  },
  {
   "cell_type": "markdown",
   "id": "c1d1a199-8eaa-4702-ab9b-9da6460d4ad6",
   "metadata": {},
   "source": [
    "## My solution (fibonacci with cache): beats 90+% "
   ]
  },
  {
   "cell_type": "code",
   "execution_count": 2,
   "id": "6dfca569-0525-468e-9b58-027fc6130786",
   "metadata": {},
   "outputs": [
    {
     "name": "stdout",
     "output_type": "stream",
     "text": [
      "63245986\n"
     ]
    }
   ],
   "source": [
    "class Solution:\n",
    "    def __init__(self):\n",
    "        self.cache = {1: 1, 2: 2}\n",
    "\n",
    "    def climbStairs(self, n: int) -> int:\n",
    "\n",
    "        if n not in self.cache:\n",
    "            self.cache[n] = self.climbStairs(n-1) + self.climbStairs(n-2)\n",
    "\n",
    "        return self.cache[n]\n",
    "    \n",
    "sol = Solution().climbStairs(38)\n",
    "print(sol)"
   ]
  },
  {
   "cell_type": "markdown",
   "id": "6c789ef5-f971-48dc-b00d-d601430edd7a",
   "metadata": {},
   "source": [
    "# 83. Remove Duplicates from Sorted List"
   ]
  },
  {
   "cell_type": "markdown",
   "id": "aa948194-1da0-44f8-861e-ad7ddf763288",
   "metadata": {},
   "source": [
    "## My solution: 90+% faster"
   ]
  },
  {
   "cell_type": "code",
   "execution_count": 1,
   "id": "2531cfcb-1caf-4fd9-bc51-3aedc2e75aef",
   "metadata": {},
   "outputs": [],
   "source": [
    "class ListNode:\n",
    "    def __init__(self, val=0, next=None):\n",
    "        self.val = val\n",
    "        self.next = next"
   ]
  },
  {
   "cell_type": "code",
   "execution_count": 2,
   "id": "10cc85ee-b71b-488a-b1b6-3c42a5719ea3",
   "metadata": {},
   "outputs": [
    {
     "name": "stdout",
     "output_type": "stream",
     "text": [
      "[1, 2, 3, 4]\n"
     ]
    }
   ],
   "source": [
    "def deleteDuplicates(head):\n",
    "        \n",
    "        if head is None:\n",
    "            return head\n",
    "        \n",
    "        current = head\n",
    "        \n",
    "        while current.next:\n",
    "            \n",
    "            if current.val == current.next.val:\n",
    "                current.next = current.next.next\n",
    "            \n",
    "            else:\n",
    "                current = current.next\n",
    "                                    \n",
    "        return head\n",
    "\n",
    "        \n",
    "list = ListNode(1, ListNode(1, ListNode(2, ListNode(3, ListNode(3, ListNode(3, ListNode(4)))))))\n",
    "\n",
    "final_list = []\n",
    "\n",
    "head = deleteDuplicates(list)\n",
    "\n",
    "while head is not None:\n",
    "    final_list.append(head.val)\n",
    "    head = head.next\n",
    "    \n",
    "print(final_list)"
   ]
  },
  {
   "cell_type": "markdown",
   "id": "006f29d6-2693-4cff-8650-bc16e2329485",
   "metadata": {},
   "source": [
    "To understand this, it's best to put it through PythonTutor. You may think we need an extra pointer called dummy or something for a problem like this, but we don't. At the start, we create one additional pointer to head because our intention is to keep head where it is. This is a singly-linked-list which means if we start traversing our list with a pointer, we can't go back. We absolutely do not want to create a new linked list that we append to. Rather, since this is a duplicates problem, we want to see if the next element is the same. If it is, then we don't care about that node, **but we care about the nodes that follow it**. So we remove our reference to that current node by updating our `current.next` and then make it point to the nodes that follow it."
   ]
  },
  {
   "cell_type": "markdown",
   "id": "6f4e844f-b7f4-4604-93a0-2b5f11b12848",
   "metadata": {},
   "source": [
    "# 88. Merge Sorted Array"
   ]
  },
  {
   "cell_type": "markdown",
   "id": "8cbdce88-04b6-46a2-a414-5d2d7deb6b93",
   "metadata": {},
   "source": [
    "You are given two integer arrays nums1 and nums2, sorted in non-decreasing order, and two integers m and n, representing the number of elements in nums1 and nums2 respectively.\n",
    "\n",
    "Merge nums1 and nums2 into a single array sorted in non-decreasing order.\n",
    "\n",
    "The final sorted array should not be returned by the function, but instead be stored inside the array nums1. To accommodate this, nums1 has a length of m + n, where the first m elements denote the elements that should be merged, and the last n elements are set to 0 and should be ignored. nums2 has a length of n."
   ]
  },
  {
   "cell_type": "markdown",
   "id": "2f76dcb2-6139-481f-a43a-87fe6bac98b1",
   "metadata": {},
   "source": [
    "## My solution (slow): 40% faster "
   ]
  },
  {
   "cell_type": "markdown",
   "id": "30c5ac0e-d8be-48de-b38e-4c8349646a48",
   "metadata": {},
   "source": [
    "For this problem, we first need to compare the nonzero values of num1 and num2 pairwise and work our way from the right. This way, our time complexity will be O(m + n) because in the worst case, every element in nums1 will be swapped to another. This is better than merging the two arrays and then sorting in place. \n",
    "\n",
    "Because it's an inplace sorting question and we want O(m+n), with each iteration there must be exactly 1 write. This means, at the very, updating the value to the same value. There should be no 'do-nothing' iteration until we've reached the end."
   ]
  },
  {
   "cell_type": "code",
   "execution_count": 3,
   "id": "1f182690-b8b1-4396-bb35-fe3180272565",
   "metadata": {},
   "outputs": [
    {
     "data": {
      "text/plain": [
       "[1, 2, 2, 3, 5, 6]"
      ]
     },
     "execution_count": 3,
     "metadata": {},
     "output_type": "execute_result"
    }
   ],
   "source": [
    "def merge(nums1, m, nums2, n):\n",
    "\n",
    "        while m > 0 and n > 0:\n",
    "            if nums2[n-1] >= nums1[m-1]:\n",
    "                nums1[m+n-1] = nums2[n-1]\n",
    "                n -= 1\n",
    "            \n",
    "            else:\n",
    "                nums1[m+n-1] = nums1[m-1]\n",
    "                m -= 1\n",
    "    \n",
    "        if m == 0:\n",
    "            nums1[:n] = nums2[:n]\n",
    "            \n",
    "        return nums1\n",
    "            \n",
    "merge([1,2,3,0,0,0], 3, [2, 5, 6], 3)   "
   ]
  },
  {
   "cell_type": "markdown",
   "id": "583e2e4e-4631-4ea4-b86c-4af0bd94f520",
   "metadata": {},
   "source": [
    "<img src=LeetCode-Images/88.1.png width=900 />"
   ]
  },
  {
   "cell_type": "markdown",
   "id": "999acedd-fad2-48c2-aed8-7082ae4ee4ff",
   "metadata": {},
   "source": [
    "# 94. Binary Tree Inorder Traversal"
   ]
  },
  {
   "cell_type": "markdown",
   "id": "bd718087-311f-4be8-85c7-c7e74da99584",
   "metadata": {},
   "source": [
    "Given the root of a binary tree, return the inorder traversal of its nodes' values."
   ]
  },
  {
   "cell_type": "markdown",
   "id": "d682daaf-bdef-40a7-bd12-0cc2f98a644a",
   "metadata": {},
   "source": [
    "## Recursive Solution: 40% faster"
   ]
  },
  {
   "cell_type": "code",
   "execution_count": 10,
   "id": "66de4cd4-9c3d-4dd9-9f09-b42e0e375dc5",
   "metadata": {},
   "outputs": [],
   "source": [
    "# Definition for a binary tree node.\n",
    "class TreeNode:\n",
    "    def __init__(self, val=0, left=None, right=None):\n",
    "        self.val = val\n",
    "        self.left = left\n",
    "        self.right = right\n",
    "        \n",
    "class Solution:\n",
    "\n",
    "    def inorderTraversal(self, root):\n",
    "        \n",
    "        if not root:\n",
    "            return root\n",
    "\n",
    "        elements = []\n",
    "\n",
    "        if root.left:\n",
    "            elements += self.inorderTraversal(root.left)\n",
    "        \n",
    "        elements.append(root.val)\n",
    "        \n",
    "        if root.right:\n",
    "            elements += self.inorderTraversal(root.right)\n",
    "\n",
    "        return elements"
   ]
  },
  {
   "cell_type": "code",
   "execution_count": 11,
   "id": "d4934e89-8718-4841-bb4b-eaa6a48ce31b",
   "metadata": {},
   "outputs": [
    {
     "name": "stdout",
     "output_type": "stream",
     "text": [
      "[1, 3, 2]\n"
     ]
    }
   ],
   "source": [
    "my_root = TreeNode(val=1, left=None, right=TreeNode(val=2, left=TreeNode(val=3)))\n",
    "sol = Solution().inorderTraversal(my_root)\n",
    "print(sol)"
   ]
  },
  {
   "cell_type": "markdown",
   "id": "a43323f8-37fd-4f80-bf19-1db8de39570c",
   "metadata": {},
   "source": [
    "## Recursion (1 liner): 40% faster"
   ]
  },
  {
   "cell_type": "code",
   "execution_count": 1,
   "id": "49ac8cd8-abc0-497a-b0e2-825a7e555933",
   "metadata": {},
   "outputs": [],
   "source": [
    "# Definition for a binary tree node.\n",
    "class TreeNode:\n",
    "    def __init__(self, val=0, left=None, right=None):\n",
    "        self.val = val\n",
    "        self.left = left\n",
    "        self.right = right\n",
    "\n",
    "class Solution:\n",
    "    \n",
    "    def inorderTraversal(self, root):\n",
    "        return  self.inorderTraversal(root.left) + [root.val] + self.inorderTraversal(root.right) if root else []"
   ]
  },
  {
   "cell_type": "code",
   "execution_count": 2,
   "id": "d9d87259-20da-43ac-8bc4-e21d034ffd67",
   "metadata": {},
   "outputs": [
    {
     "name": "stdout",
     "output_type": "stream",
     "text": [
      "[1, 3, 2]\n"
     ]
    }
   ],
   "source": [
    "my_root = TreeNode(val=1, left=None, right=TreeNode(val=2, left=TreeNode(val=3)))\n",
    "sol = Solution().inorderTraversal(my_root)\n",
    "print(sol)"
   ]
  },
  {
   "cell_type": "markdown",
   "id": "caa8afba-a550-4b92-88c4-6a3e3ff1b9ec",
   "metadata": {},
   "source": [
    "## Stack Solution: "
   ]
  },
  {
   "cell_type": "markdown",
   "id": "f0db935f-ac3d-4510-9938-ac916a725d25",
   "metadata": {},
   "source": [
    "Use this link to understand the stack solution better: https://leetcode.com/problems/binary-tree-inorder-traversal/solutions/127563/binary-tree-inorder-traversal/.\n",
    "\n",
    "All that's happening is we first create a stack. We then go to the left node and add it to our stack. We repeat this again and again, adding these left nodes to our stack until we eventually reach a node that has no left child node, i.e. left child node = None. At this point, `while root` is `False`. So, we see if we have values in our stack, and we do, so we skip the `if` block.\n",
    "\n",
    "It looks something like this:\n",
    "```\n",
    "     1\n",
    "    / \\\n",
    "   /   \\\n",
    "None    2\n",
    " ^\n",
    " |\n",
    "we're here\n",
    "```\n",
    "\n",
    "Now we can pop off this node (1) from the stack and add its value to our `elements` solution array. **We popped off a _node_, therefore, we are now back at the node: 1.**\n",
    "\n",
    "As with inorder traversal (left -> middle -> right), since we've covered left and middle, we can now move onto right. Keep going until we reach a None node.\n",
    "\n",
    "\n",
    "```\n",
    "     1\n",
    "    / \\\n",
    "   /   \\\n",
    "None    2\n",
    "       / \\\n",
    "      /   \\\n",
    "     3    None\n",
    "    / \\\n",
    "   /   \\\n",
    " None  None\n",
    "  ^\n",
    " |\n",
    "we're here\n",
    "```\n",
    "\n",
    "Again, at this point, we pop off the node `3`, append its value, then go to the right child node (None). This fails straight away meaning that `3` subtree is complete. The `3` subtree is just the left child of `2`. \n",
    "\n",
    "As with inorder traversal (left -> middle -> right), we pop and append this middle value before going to the right tree.\n",
    "\n",
    "Finally, we reach the right-most node and thus, our stack is empty. We can now return our element solution array."
   ]
  },
  {
   "cell_type": "code",
   "execution_count": 14,
   "id": "ffe2ad6e-d684-4aea-a421-1471c0bdf06b",
   "metadata": {},
   "outputs": [],
   "source": [
    "# Definition for a binary tree node.\n",
    "class TreeNode:\n",
    "    def __init__(self, val=0, left=None, right=None):\n",
    "        self.val = val\n",
    "        self.left = left\n",
    "        self.right = right\n",
    "        \n",
    "class Solution:\n",
    "\n",
    "    def inorderTraversal(self, root):\n",
    "        elements, stack = [], []\n",
    "        while True:\n",
    "            while root:\n",
    "                stack.append(root)\n",
    "                root = root.left\n",
    "            if not stack:\n",
    "                return elements\n",
    "            node = stack.pop()\n",
    "            elements.append(node.val)\n",
    "            root = node.right"
   ]
  },
  {
   "cell_type": "code",
   "execution_count": 15,
   "id": "e53e87a5-452c-4a8e-9387-341bd8c02821",
   "metadata": {},
   "outputs": [
    {
     "name": "stdout",
     "output_type": "stream",
     "text": [
      "[1, 3, 2]\n"
     ]
    }
   ],
   "source": [
    "my_root = TreeNode(val=1, left=None, right=TreeNode(val=2, left=TreeNode(val=3)))\n",
    "sol = Solution().inorderTraversal(my_root)\n",
    "print(sol)"
   ]
  }
 ],
 "metadata": {
  "kernelspec": {
   "display_name": "Python 3 (ipykernel)",
   "language": "python",
   "name": "python3"
  },
  "language_info": {
   "codemirror_mode": {
    "name": "ipython",
    "version": 3
   },
   "file_extension": ".py",
   "mimetype": "text/x-python",
   "name": "python",
   "nbconvert_exporter": "python",
   "pygments_lexer": "ipython3",
   "version": "3.10.6"
  }
 },
 "nbformat": 4,
 "nbformat_minor": 5
}
